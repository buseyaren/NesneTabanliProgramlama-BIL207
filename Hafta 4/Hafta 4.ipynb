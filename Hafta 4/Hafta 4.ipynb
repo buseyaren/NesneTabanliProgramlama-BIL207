{
 "cells": [
  {
   "cell_type": "markdown",
   "id": "eb43c311",
   "metadata": {},
   "source": [
    "## Değişkenler Oluşturma\n",
    "Python'un bir değişken bildirmek için bir komutu yoktur.\n",
    "\n",
    "Bir değişken, ona bir değer atadığınız anda oluşturulur."
   ]
  },
  {
   "cell_type": "code",
   "execution_count": 7,
   "id": "275576db",
   "metadata": {},
   "outputs": [
    {
     "name": "stdout",
     "output_type": "stream",
     "text": [
      "intx:  5\n",
      "y:  John\n"
     ]
    }
   ],
   "source": [
    "intx = 5\n",
    "y = \"John\"\n",
    "print(\"intx: \",intx)\n",
    "print(\"y: \",y)"
   ]
  },
  {
   "cell_type": "markdown",
   "id": "333d1b33",
   "metadata": {},
   "source": [
    "Değişkenlerin belirli bir türle bildirilmesine gerek yoktur ve hatta ayarlandıktan sonra türü değiştirebilirler."
   ]
  },
  {
   "cell_type": "code",
   "execution_count": 10,
   "id": "61dc37a5",
   "metadata": {},
   "outputs": [
    {
     "name": "stdout",
     "output_type": "stream",
     "text": [
      "4.0\n",
      "<class 'float'>\n"
     ]
    }
   ],
   "source": [
    "x = 4 \n",
    "y = 4.0\n",
    "print(float(x))\n",
    "print(type(y))"
   ]
  },
  {
   "cell_type": "code",
   "execution_count": 14,
   "id": "f6a29ea6",
   "metadata": {},
   "outputs": [
    {
     "name": "stdout",
     "output_type": "stream",
     "text": [
      "6790964\n"
     ]
    }
   ],
   "source": [
    "x = 6790964\n",
    "print(x)  # x is of type int\n",
    "x = \"Sally\" # x is now of type str\n"
   ]
  },
  {
   "cell_type": "code",
   "execution_count": 15,
   "id": "88d564dd",
   "metadata": {},
   "outputs": [
    {
     "data": {
      "text/plain": [
       "'Sally'"
      ]
     },
     "execution_count": 15,
     "metadata": {},
     "output_type": "execute_result"
    }
   ],
   "source": [
    "x"
   ]
  },
  {
   "cell_type": "markdown",
   "id": "c3e9a2cd",
   "metadata": {},
   "source": [
    "## Casting\n",
    "Bir değişkenin veri tipini belirtmek isterseniz bu casting (döküm) ile yapılabilir."
   ]
  },
  {
   "cell_type": "code",
   "execution_count": 25,
   "id": "0ec87965",
   "metadata": {},
   "outputs": [
    {
     "name": "stdout",
     "output_type": "stream",
     "text": [
      "x:  3\n",
      "<class 'str'>\n"
     ]
    }
   ],
   "source": [
    "x=\"3\"\n",
    "print(\"x: \",x)\n",
    "print(type(x))\n",
    "# '3'  - String "
   ]
  },
  {
   "cell_type": "code",
   "execution_count": 26,
   "id": "31529b7d",
   "metadata": {},
   "outputs": [
    {
     "name": "stdout",
     "output_type": "stream",
     "text": [
      "3\n",
      "<class 'str'>\n"
     ]
    }
   ],
   "source": [
    "x = str(3) #String - Dize   \n",
    "print(x)\n",
    "print(type(x))"
   ]
  },
  {
   "cell_type": "code",
   "execution_count": 27,
   "id": "8ef01c19",
   "metadata": {},
   "outputs": [
    {
     "name": "stdout",
     "output_type": "stream",
     "text": [
      "<class 'int'>\n",
      "3\n"
     ]
    }
   ],
   "source": [
    "y = int(3) #Integer - Int\n",
    "print(type(y))\n",
    "print(y)\n",
    "  "
   ]
  },
  {
   "cell_type": "code",
   "execution_count": 28,
   "id": "fe43d1bf",
   "metadata": {},
   "outputs": [
    {
     "name": "stdout",
     "output_type": "stream",
     "text": [
      "3.0\n",
      "<class 'float'>\n"
     ]
    }
   ],
   "source": [
    "z = float(3)#Float - Float   3: int 3.0 : float.\n",
    "print(z)\n",
    "print(type(z))"
   ]
  },
  {
   "cell_type": "markdown",
   "id": "5ad1e55e",
   "metadata": {},
   "source": [
    "## Türü Alma\n",
    "type( ) işleviyle bir değişkenin veri türünü alabilirsiniz."
   ]
  },
  {
   "cell_type": "code",
   "execution_count": 29,
   "id": "b5e3ae0d",
   "metadata": {},
   "outputs": [
    {
     "name": "stdout",
     "output_type": "stream",
     "text": [
      "<class 'int'>\n",
      "<class 'str'>\n"
     ]
    }
   ],
   "source": [
    "x = 5\n",
    "y = \"John\"\n",
    "print(type(x))\n",
    "print(type(y))"
   ]
  },
  {
   "cell_type": "markdown",
   "id": "a06847cf",
   "metadata": {},
   "source": [
    "## Tek veya Çift Alıntılama\n",
    "String (Dize) değişkenleri, tek veya çift tırnak kullanılarak bildirilebilir:"
   ]
  },
  {
   "cell_type": "code",
   "execution_count": 30,
   "id": "b6014a5a",
   "metadata": {
    "scrolled": true
   },
   "outputs": [
    {
     "name": "stdout",
     "output_type": "stream",
     "text": [
      "John\n",
      "John\n"
     ]
    }
   ],
   "source": [
    "x = \"John\"\n",
    "print(x)\n",
    "# is the same as\n",
    "x = 'John'\n",
    "print(x)"
   ]
  },
  {
   "cell_type": "markdown",
   "id": "68caecf3",
   "metadata": {},
   "source": [
    "## Case Sensitive - Harfe duyarlı\n",
    "Değişken isimleri büyük/küçük harf duyarlıdır."
   ]
  },
  {
   "cell_type": "code",
   "execution_count": 32,
   "id": "af43f3fd",
   "metadata": {},
   "outputs": [
    {
     "name": "stdout",
     "output_type": "stream",
     "text": [
      "4\n",
      "Sally\n"
     ]
    }
   ],
   "source": [
    "a = 4\n",
    "print(a)\n",
    "A = \"Sally\"\n",
    "print(A)"
   ]
  },
  {
   "cell_type": "markdown",
   "id": "baf97496",
   "metadata": {},
   "source": [
    "## Değişken Adları\n",
    "* Bir değişkenin kısa bir adı (x ve y gibi) veya daha açıklayıcı bir adı (yaş, carname, toplam_hacim) olabilir. Python değişkenleri için kurallar:\n",
    "* Değişken adı bir harf veya alt çizgi karakteri ile başlamalıdır\n",
    "* Değişken adı bir sayı ile başlayamaz\n",
    "* Değişken adı yalnızca alfasayısal karakterler ve alt çizgiler içerebilir (A-z, 0-9 ve _ )\n",
    "* Değişken adları büyük/küçük harfe duyarlıdır (yaş, Yaş ve YAŞ üç farklı değişkendir)\n",
    "\n",
    "Yasal değişken adları:"
   ]
  },
  {
   "cell_type": "code",
   "execution_count": 39,
   "id": "0e351fb0",
   "metadata": {},
   "outputs": [
    {
     "name": "stdout",
     "output_type": "stream",
     "text": [
      "John\n",
      "John\n"
     ]
    }
   ],
   "source": [
    "var = 'John'\n",
    "print(var)\n",
    "_var2 = 'John'\n",
    "print(_var2)"
   ]
  },
  {
   "cell_type": "code",
   "execution_count": null,
   "id": "3bc72754",
   "metadata": {},
   "outputs": [],
   "source": [
    "myvar = \"John\"\n",
    "my_var = \"John\"\n",
    "_my_var = \"John\"\n",
    "myVar = \"John\" #camel case\n",
    "MYVAR = \"John\"\n",
    "myvar2 = \"John\""
   ]
  },
  {
   "cell_type": "code",
   "execution_count": 47,
   "id": "ee25c591",
   "metadata": {},
   "outputs": [
    {
     "name": "stdout",
     "output_type": "stream",
     "text": [
      "-----\n",
      "Variable Formats: \n",
      "Camel Case .. Pascal Case ?? Snake Case\n",
      "Camel Case Pascal Case Snake Case\n"
     ]
    }
   ],
   "source": [
    "myVar = 'Camel Case'\n",
    "MyVar = 'Pascal Case'\n",
    "my_var = 'Snake Case'\n",
    "print('-----')\n",
    "print('Variable Formats: ')\n",
    "print(myVar, '..', MyVar,'??', my_var)\n",
    "print(myVar, MyVar, my_var)"
   ]
  },
  {
   "cell_type": "markdown",
   "id": "3ba96010",
   "metadata": {},
   "source": [
    "Yasal olmayan değişken adları:"
   ]
  },
  {
   "cell_type": "code",
   "execution_count": null,
   "id": "24583862",
   "metadata": {},
   "outputs": [],
   "source": [
    "2myvar = \"John\"\n",
    "my-var = \"John\"\n",
    "my var = \"John\""
   ]
  },
  {
   "cell_type": "code",
   "execution_count": 55,
   "id": "5f27fe97",
   "metadata": {},
   "outputs": [
    {
     "name": "stdout",
     "output_type": "stream",
     "text": [
      "97\n"
     ]
    }
   ],
   "source": [
    "a = 56\n",
    "b = 41\n",
    "toplaDeger = a+b #Camel case\n",
    "ToplaDeger = a+b #Pascal case\n",
    "topla_deger = a+b #Snake case\n",
    "print(topla_deger)"
   ]
  },
  {
   "cell_type": "markdown",
   "id": "edfe754a",
   "metadata": {},
   "source": [
    "## Çoklu Kelime Değişken İsimleri\n",
    "Birden fazla kelime içeren değişken isimlerinin okunması zor olabilir.\n",
    "\n",
    "Bunları daha okunaklı hale getirmek için kullanabileceğiniz birkaç teknik vardır:"
   ]
  },
  {
   "cell_type": "markdown",
   "id": "aeaa6312",
   "metadata": {},
   "source": [
    "### Camel Case - Deve Hörgücü, Vakası\n",
    "İlk kelime hariç her kelime büyük harfle başlar:"
   ]
  },
  {
   "cell_type": "code",
   "execution_count": 56,
   "id": "e3e9eefa",
   "metadata": {},
   "outputs": [],
   "source": [
    "myVariableName = \"John\""
   ]
  },
  {
   "cell_type": "markdown",
   "id": "18333573",
   "metadata": {},
   "source": [
    "### Pascal Case - Pascal Vakası\n",
    "Her kelime büyük harfle başlar:"
   ]
  },
  {
   "cell_type": "code",
   "execution_count": 57,
   "id": "6a4ac5be",
   "metadata": {},
   "outputs": [],
   "source": [
    "MyVariableName = \"John\""
   ]
  },
  {
   "cell_type": "markdown",
   "id": "19fa11cd",
   "metadata": {},
   "source": [
    "### Snake Case - Yılan Vakası\n",
    "Her kelime bir alt çizgi karakteri ile ayrılır:"
   ]
  },
  {
   "cell_type": "code",
   "execution_count": 58,
   "id": "d308f653",
   "metadata": {},
   "outputs": [],
   "source": [
    "my_variable_name = \"John\""
   ]
  },
  {
   "cell_type": "markdown",
   "id": "83218d54",
   "metadata": {},
   "source": [
    "## Python Değişkenleri - Birden Çok Değer Atama\n",
    "\"Birden Çok Değişkene Birçok Değer\"\n",
    "\n",
    "Python, bir satırda birden çok değişkene değer atamanıza izin verir:"
   ]
  },
  {
   "cell_type": "code",
   "execution_count": 59,
   "id": "fa6ad131",
   "metadata": {},
   "outputs": [
    {
     "name": "stdout",
     "output_type": "stream",
     "text": [
      "Orange\n",
      "Banana\n",
      "Cherry\n"
     ]
    }
   ],
   "source": [
    "fruit1, fruit2, fruit3 = \"Orange\", \"Banana\", \"Cherry\"\n",
    "print(fruit1)\n",
    "print(fruit2)\n",
    "print(fruit3)"
   ]
  },
  {
   "cell_type": "code",
   "execution_count": 62,
   "id": "e2f82747",
   "metadata": {},
   "outputs": [
    {
     "name": "stdout",
     "output_type": "stream",
     "text": [
      "a ve bnin toplamı: 5\n",
      "b*c 20\n",
      "1 4 5\n"
     ]
    }
   ],
   "source": [
    "a,b,c = 1,4,5\n",
    "print(\"a ve bnin toplamı:\", a+b)\n",
    "print(\"b*c\", b*c)\n",
    "print(a,b,c)"
   ]
  },
  {
   "cell_type": "markdown",
   "id": "c1103fd7",
   "metadata": {},
   "source": [
    "\"Birden Çok Değişkene Bir Değer\"\n",
    "Ve aynı değeri bir satırda birden çok değişkene atayabilirsiniz:\n",
    "Ayrı ayrı \"Orange\" ataması yerine tüm değişkenler \"Orange\" değerine eşitlendi."
   ]
  },
  {
   "cell_type": "code",
   "execution_count": 63,
   "id": "22495eb1",
   "metadata": {},
   "outputs": [],
   "source": [
    "fruit1, fruit2, fruit3 = \"Orange\", \"Orange\", \"Orange\""
   ]
  },
  {
   "cell_type": "code",
   "execution_count": 68,
   "id": "ae40d40e",
   "metadata": {},
   "outputs": [
    {
     "name": "stdout",
     "output_type": "stream",
     "text": [
      "Orange\n",
      "Orange\n",
      "Orange\n"
     ]
    }
   ],
   "source": [
    "fruit1 = fruit2 = fruit3 = \"Orange\"\n",
    "print(fruit1)\n",
    "print(fruit2)\n",
    "print(fruit3)"
   ]
  },
  {
   "cell_type": "markdown",
   "id": "7690f7f5",
   "metadata": {},
   "source": [
    "### Bir Koleksiyonun Paketini Açma\n",
    "Bir listede değerler koleksiyonunuz varsa, tuple vb. Python, değerleri değişkenlere çıkarmanıza izin verir. Buna *unpacking* (ambalaj açma) denir."
   ]
  },
  {
   "cell_type": "code",
   "execution_count": 74,
   "id": "9dbf7b1c",
   "metadata": {},
   "outputs": [
    {
     "name": "stdout",
     "output_type": "stream",
     "text": [
      "apple\n",
      "banana\n",
      "cherry\n",
      "<class 'list'>\n"
     ]
    }
   ],
   "source": [
    "fruits = [\"apple\", \"banana\", \"cherry\"] #list - liste köşeli parantez\n",
    "x, y, z = fruits #fruits listesine x,y,z ataması\n",
    "print(x)\n",
    "print(y)\n",
    "print(z)\n",
    "print(type(fruits))"
   ]
  },
  {
   "cell_type": "code",
   "execution_count": 75,
   "id": "14ce13ed",
   "metadata": {},
   "outputs": [
    {
     "name": "stdout",
     "output_type": "stream",
     "text": [
      "apple\n",
      "<class 'str'>\n",
      "banana\n",
      "<class 'str'>\n",
      "cherry\n",
      "<class 'str'>\n",
      "<class 'tuple'>\n"
     ]
    }
   ],
   "source": [
    "fruits = \"apple\", \"banana\", \"cherry\" #tuple parantez yok\n",
    "x, y, z = fruits #fruits listesine x,y,z ataması\n",
    "print(x)\n",
    "print(type(x))\n",
    "print(y)\n",
    "print(type(y))\n",
    "print(z)\n",
    "print(type(z))\n",
    "print(type(fruits))"
   ]
  },
  {
   "cell_type": "markdown",
   "id": "568287b6",
   "metadata": {},
   "source": [
    "## Python - Çıktı Değişkenleri\n",
    "Çıkış Değişkenleri\n",
    "\n",
    "Python print() işlevi genellikle değişkenleri çıktılamak için kullanılır."
   ]
  },
  {
   "cell_type": "code",
   "execution_count": null,
   "id": "60dd97f8",
   "metadata": {},
   "outputs": [],
   "source": [
    "x = \"Python is awesome\"\n",
    "print(x)"
   ]
  },
  {
   "cell_type": "code",
   "execution_count": null,
   "id": "62bff3cd",
   "metadata": {},
   "outputs": [],
   "source": [
    "x = \"Python\"\n",
    "y = \"is\"\n",
    "z = \"awesome\"\n",
    "print(x, y, z)"
   ]
  },
  {
   "cell_type": "markdown",
   "id": "63d1478f",
   "metadata": {},
   "source": [
    "Birden çok değişkenin çıktısını almak için + operatörünü de kullanabilirsiniz:"
   ]
  },
  {
   "cell_type": "code",
   "execution_count": null,
   "id": "84582bdc",
   "metadata": {},
   "outputs": [],
   "source": [
    "x = \"Python \"\n",
    "y = \"is \"\n",
    "z = \"awesome\"\n",
    "print(x + y + z)"
   ]
  },
  {
   "cell_type": "markdown",
   "id": "76fce1bb",
   "metadata": {},
   "source": [
    "**! \"Python\" ve \"is\" den sonraki boşluk karakterine dikkat edin, bunlar olmadan sonuç \"Pythinisawesome\" olur.**"
   ]
  },
  {
   "cell_type": "markdown",
   "id": "632b095c",
   "metadata": {},
   "source": [
    "Sayılar için + karakteri matematiksel bir operatör olarak çalışır:"
   ]
  },
  {
   "cell_type": "code",
   "execution_count": null,
   "id": "e74281a2",
   "metadata": {},
   "outputs": [],
   "source": [
    "x = 5568\n",
    "y = 1086\n",
    "print(x + y)"
   ]
  },
  {
   "cell_type": "markdown",
   "id": "87a50dea",
   "metadata": {},
   "source": [
    "#### print( ) işlevinde, + operatörüyle bir dize ve sayıyı birleştirmeye çalıştığınızda Python size bir hata verecektir:"
   ]
  },
  {
   "cell_type": "code",
   "execution_count": null,
   "id": "2b6b7757",
   "metadata": {},
   "outputs": [],
   "source": [
    "x = 5\n",
    "y = \"John\"\n",
    "print(x + y)"
   ]
  },
  {
   "cell_type": "markdown",
   "id": "d4b5afb5",
   "metadata": {},
   "source": [
    "#### print() işlevinde birden çok değişkeni çıktı almanın en iyi yolu, onları farklı veri türlerini bile destekleyen virgüllerle ayırmaktır:"
   ]
  },
  {
   "cell_type": "code",
   "execution_count": null,
   "id": "15b9acf4",
   "metadata": {},
   "outputs": [],
   "source": [
    "x = 5\n",
    "y = \"John\"\n",
    "print(x,y)"
   ]
  },
  {
   "cell_type": "markdown",
   "id": "67a0fbd8",
   "metadata": {},
   "source": [
    "### Python - Global (Genel) Değişkenler\n",
    "\n",
    "Bir fonksiyonun dışında oluşturulan değişkenler (yukarıdaki tüm örneklerde olduğu gibi) global değişkenler olarak bilinir.\n",
    "\n",
    "Global değişkenler, hem fonksiyonların içinde hem de dışında herkes tarafından kullanılabilir.\n",
    "\n",
    "* *Bir fonksiyonun dışında bir değişken oluşturun ve onu fonksiyonun içinde kullanın:*"
   ]
  },
  {
   "cell_type": "code",
   "execution_count": null,
   "id": "bccc39b0",
   "metadata": {},
   "outputs": [],
   "source": [
    "x = \"awesome\"\n",
    "\n",
    "def myfunc():\n",
    "    print(\"Python is \" + x)\n",
    "\n",
    "myfunc()"
   ]
  },
  {
   "cell_type": "markdown",
   "id": "8114e297",
   "metadata": {},
   "source": [
    "Bir fonksiyon içinde aynı isimde bir değişken oluşturursanız, bu değişken yerel olur ve sadece fonksiyon içinde kullanılabilir. Aynı ada sahip global değişken, olduğu gibi, global ve orijinal değerde kalacaktır."
   ]
  },
  {
   "cell_type": "code",
   "execution_count": null,
   "id": "f45b4289",
   "metadata": {},
   "outputs": [],
   "source": [
    "x = \"awesome\"\n",
    "\n",
    "def myfunc():\n",
    "    x = \"fantastic\"\n",
    "    print(\"Python is \" + x)\n",
    "\n",
    "myfunc()\n",
    "\n",
    "print(\"Python is \" + x)"
   ]
  },
  {
   "cell_type": "markdown",
   "id": "c48a2674",
   "metadata": {},
   "source": [
    "#### global anahtar kelimesi\n",
    "\n",
    "Normalde, bir işlev içinde bir değişken oluşturduğunuzda, bu değişken yereldir ve yalnızca o işlevin içinde kullanılabilir.\n",
    "\n",
    "Bir fonksiyon içinde global bir değişken oluşturmak için **global** anahtar sözcüğünü kullanabilirsiniz."
   ]
  },
  {
   "cell_type": "markdown",
   "id": "fb6a6ed1",
   "metadata": {},
   "source": [
    "Ayrıca, bir fonksiyon içindeki global bir değişkeni değiştirmek istiyorsanız global anahtar sözcüğünü kullanın."
   ]
  },
  {
   "cell_type": "code",
   "execution_count": null,
   "id": "d1ce78f9",
   "metadata": {},
   "outputs": [],
   "source": [
    "def myfunc():\n",
    "    global x\n",
    "    x = \"fantastic\"\n",
    "\n",
    "myfunc()\n",
    "\n",
    "print(\"Python is \" + x)"
   ]
  },
  {
   "cell_type": "markdown",
   "id": "8df8051c",
   "metadata": {},
   "source": [
    "### Python - Değişken Alıştırmaları\n",
    "\n",
    "carname adında bir değişken oluşturun ve ona Volvo değerini atayın."
   ]
  },
  {
   "cell_type": "markdown",
   "id": "293ed887",
   "metadata": {},
   "source": []
  },
  {
   "cell_type": "markdown",
   "id": "fde28bcf",
   "metadata": {},
   "source": [
    "x adında bir değişken oluşturun ve buna 50 değerini atayın."
   ]
  },
  {
   "cell_type": "code",
   "execution_count": null,
   "id": "33df0f2a",
   "metadata": {},
   "outputs": [],
   "source": []
  },
  {
   "cell_type": "markdown",
   "id": "53dc2a12",
   "metadata": {},
   "source": [
    "İki değişken kullanarak 5 + 10'un toplamını görüntüleyin: x ve y için"
   ]
  },
  {
   "cell_type": "code",
   "execution_count": null,
   "id": "8ec840b4",
   "metadata": {},
   "outputs": [],
   "source": []
  },
  {
   "cell_type": "markdown",
   "id": "da38773b",
   "metadata": {},
   "source": [
    "z adında bir değişken oluşturun, ona x + y atayın ve sonucu görüntüleyin."
   ]
  },
  {
   "cell_type": "code",
   "execution_count": null,
   "id": "34fbdcc9",
   "metadata": {},
   "outputs": [],
   "source": []
  },
  {
   "cell_type": "markdown",
   "id": "b7a6d34b",
   "metadata": {},
   "source": [
    "Değişken adındaki geçersiz karakterleri kaldırın:"
   ]
  },
  {
   "cell_type": "code",
   "execution_count": null,
   "id": "07bea72d",
   "metadata": {},
   "outputs": [],
   "source": [
    "2my-first_name = \"John\""
   ]
  },
  {
   "cell_type": "markdown",
   "id": "bde4940e",
   "metadata": {},
   "source": [
    "Bir kod satırındaki üç değişkene de aynı değeri atamak için doğru sözdizimini girin."
   ]
  },
  {
   "cell_type": "code",
   "execution_count": null,
   "id": "f7883cf2",
   "metadata": {},
   "outputs": [],
   "source": [
    "x  y  z  \"Orange\""
   ]
  },
  {
   "cell_type": "markdown",
   "id": "560b14d4",
   "metadata": {},
   "source": [
    "x değişkenini global kapsama dahil etmek için doğru anahtar sözcüğü girin."
   ]
  },
  {
   "cell_type": "code",
   "execution_count": null,
   "id": "120c7bb3",
   "metadata": {},
   "outputs": [],
   "source": [
    "def myfunc():\n",
    "    x\n",
    "  x = \"fantastic\""
   ]
  },
  {
   "cell_type": "markdown",
   "id": "dede1c65",
   "metadata": {},
   "source": [
    "Aşağıdaki kod örneği, x veri türünü yazdırır, bu hangi veri türü olurdu?"
   ]
  },
  {
   "cell_type": "code",
   "execution_count": null,
   "id": "1e1332fe",
   "metadata": {},
   "outputs": [],
   "source": [
    "x = 20.5\n",
    "print(type(x))"
   ]
  },
  {
   "cell_type": "code",
   "execution_count": null,
   "id": "668e3bb9",
   "metadata": {},
   "outputs": [],
   "source": [
    "x = [\"apple\", \"banana\", \"cherry\"]\n",
    "print(type(x))"
   ]
  },
  {
   "cell_type": "markdown",
   "id": "d5712bed",
   "metadata": {},
   "source": [
    "## Python Veri Türleri\n",
    "\n",
    "Yerleşik Veri Türleri\n",
    "\n",
    "Programlamada veri tipi önemli bir kavramdır.\n",
    "\n",
    "Değişkenler farklı türlerdeki verileri depolayabilir ve farklı türler farklı şeyler yapabilir.\n",
    "\n",
    "Python, bu kategorilerde varsayılan olarak aşağıdaki veri türlerine sahiptir:\n",
    "\n",
    "* Text Type (Metin):\tstr\n",
    "* Numeric Types (Sayısal):\tint, float, complex\n",
    "* Sequence Types (Sıra):\tlist, tuple, range\n",
    "* Mapping Type (Eşleme):\tdict\n",
    "* Set Types:\tset, frozenset\n",
    "* Boolean Type:\tbool\n",
    "* Binary Types:\tbytes, bytearray, memoryview\n",
    "* None Type (Tür Yok):\tNoneType"
   ]
  },
  {
   "cell_type": "markdown",
   "id": "f1d935ba",
   "metadata": {},
   "source": [
    "#### Veri Türünü Alma\n",
    "type(  ) işlevini kullanarak herhangi bir nesnenin veri türünü alabilirsiniz:"
   ]
  },
  {
   "cell_type": "code",
   "execution_count": null,
   "id": "6a225293",
   "metadata": {},
   "outputs": [],
   "source": [
    "x = 343.3\n",
    "print(type(x))"
   ]
  },
  {
   "cell_type": "code",
   "execution_count": null,
   "id": "c396d7ac",
   "metadata": {},
   "outputs": [],
   "source": [
    "x = 1j\n",
    "print(type(x))"
   ]
  },
  {
   "cell_type": "code",
   "execution_count": null,
   "id": "a4adfaf9",
   "metadata": {},
   "outputs": [],
   "source": [
    "x = [\"apple\", \"banana\", \"cherry\"]\n",
    "print(type(x))"
   ]
  },
  {
   "cell_type": "code",
   "execution_count": null,
   "id": "177c5e53",
   "metadata": {},
   "outputs": [],
   "source": [
    "x = (\"apple\", \"banana\", \"cherry\")\n",
    "print(type(x))"
   ]
  },
  {
   "cell_type": "code",
   "execution_count": null,
   "id": "50a4b41c",
   "metadata": {},
   "outputs": [],
   "source": [
    "x = range(6)\n",
    "print(type(x))"
   ]
  },
  {
   "cell_type": "code",
   "execution_count": null,
   "id": "50c51ad5",
   "metadata": {},
   "outputs": [],
   "source": [
    "x = {\"name\" : \"John\", \"age\" : 36}\n",
    "print(type(x))"
   ]
  },
  {
   "cell_type": "code",
   "execution_count": null,
   "id": "0350c3be",
   "metadata": {},
   "outputs": [],
   "source": [
    "x = {\"apple\", \"banana\", \"cherry\"}\n",
    "print(type(x))"
   ]
  },
  {
   "cell_type": "code",
   "execution_count": null,
   "id": "9005e0b1",
   "metadata": {},
   "outputs": [],
   "source": [
    "x = True\n",
    "print(type(x))"
   ]
  },
  {
   "cell_type": "code",
   "execution_count": null,
   "id": "9ebfab53",
   "metadata": {},
   "outputs": [],
   "source": [
    "x = b\"Hello\"\n",
    "print(type(x))\n",
    "print(x)"
   ]
  },
  {
   "cell_type": "code",
   "execution_count": null,
   "id": "80b44e28",
   "metadata": {},
   "outputs": [],
   "source": [
    "x = bytearray(5)\n",
    "print(type(x))\n",
    "print(x)"
   ]
  },
  {
   "cell_type": "code",
   "execution_count": null,
   "id": "609a3ef5",
   "metadata": {},
   "outputs": [],
   "source": [
    "x = None\n",
    "print(type(x))\n",
    "print(x)"
   ]
  },
  {
   "cell_type": "markdown",
   "id": "c5d13982",
   "metadata": {},
   "source": [
    "#### Belirli Veri Türünü Ayarlama\n",
    "Veri türünü belirtmek isterseniz, aşağıdaki yapıcı işlevlerini kullanabilirsiniz:"
   ]
  },
  {
   "cell_type": "code",
   "execution_count": null,
   "id": "f874cb95",
   "metadata": {},
   "outputs": [],
   "source": [
    "x = str(\"Hello World\")\t\n",
    "print(type(x))\n",
    "print(x)"
   ]
  },
  {
   "cell_type": "code",
   "execution_count": null,
   "id": "70cf3627",
   "metadata": {},
   "outputs": [],
   "source": [
    "x = list((\"apple\", \"banana\", \"cherry\"))\n",
    "print(type(x))\n",
    "print(x)"
   ]
  },
  {
   "cell_type": "code",
   "execution_count": null,
   "id": "29dd7d7a",
   "metadata": {},
   "outputs": [],
   "source": [
    "x = dict(name=\"John\", age=36)\n",
    "print(type(x))\n",
    "print(x)"
   ]
  },
  {
   "cell_type": "markdown",
   "id": "c4c9cff4",
   "metadata": {},
   "source": [
    "### Python Numaralar\n",
    "\n",
    "Python'da üç sayısal tür vardır:\n",
    "\n",
    "* int\n",
    "* float\n",
    "* complex\n",
    "\n",
    "Onlara bir değer atadığınızda, sayısal türden değişkenler oluşturulur:"
   ]
  },
  {
   "cell_type": "code",
   "execution_count": null,
   "id": "b779d905",
   "metadata": {},
   "outputs": [],
   "source": [
    "x = 1    # int\n",
    "y = 2.8  # float\n",
    "z = 1j   # complex\n",
    "print(type(x))\n",
    "print(type(y))\n",
    "print(type(z))"
   ]
  },
  {
   "cell_type": "markdown",
   "id": "07cf8d41",
   "metadata": {},
   "source": [
    "#### Int\n",
    "Int veya tamsayı, pozitif veya negatif, ondalıksız, sınırsız uzunlukta bir tam sayıdır."
   ]
  },
  {
   "cell_type": "code",
   "execution_count": null,
   "id": "4f224685",
   "metadata": {},
   "outputs": [],
   "source": [
    "x = 1\n",
    "y = 35656222554887711\n",
    "z = -3255522\n",
    "\n",
    "print(type(x))\n",
    "print(type(y))\n",
    "print(type(z))"
   ]
  },
  {
   "cell_type": "markdown",
   "id": "98f22c68",
   "metadata": {},
   "source": [
    "#### Float\n",
    "Kayan nokta veya \"kayan nokta sayısı\", bir veya daha fazla ondalık basamak içeren pozitif veya negatif bir sayıdır."
   ]
  },
  {
   "cell_type": "code",
   "execution_count": null,
   "id": "7ae97298",
   "metadata": {},
   "outputs": [],
   "source": [
    "x = 1.10\n",
    "y = 1.0\n",
    "z = -35.59\n",
    "\n",
    "print(type(x))\n",
    "print(type(y))\n",
    "print(type(z))"
   ]
  },
  {
   "cell_type": "markdown",
   "id": "659a51cf",
   "metadata": {},
   "source": [
    "Float, 10'un gücünü belirtmek için \"e\" harfiyle gösterilen bilimsel sayılar da olabilir."
   ]
  },
  {
   "cell_type": "code",
   "execution_count": null,
   "id": "65925e9b",
   "metadata": {},
   "outputs": [],
   "source": [
    "x = 35e3\n",
    "y = 12E4\n",
    "z = -87.7e100\n",
    "\n",
    "print(type(x))\n",
    "print(type(y))\n",
    "print(type(z))"
   ]
  },
  {
   "cell_type": "markdown",
   "id": "724cef8e",
   "metadata": {},
   "source": [
    "#### Complex\n",
    "Karmaşık sayılar hayali kısım olarak \"j\" ile yazılır:"
   ]
  },
  {
   "cell_type": "code",
   "execution_count": null,
   "id": "b87d11c6",
   "metadata": {},
   "outputs": [],
   "source": [
    "x = 3+5j\n",
    "y = 5j\n",
    "z = -5j\n",
    "print(x)\n",
    "print(type(x))\n",
    "print(type(y))\n",
    "print(type(z))"
   ]
  },
  {
   "cell_type": "markdown",
   "id": "902bc24a",
   "metadata": {},
   "source": [
    "#### Tür Dönüştürme\n",
    "int(), float() ve complex() yöntemleriyle bir türden diğerine dönüştürebilirsiniz:"
   ]
  },
  {
   "cell_type": "code",
   "execution_count": null,
   "id": "96ff0533",
   "metadata": {},
   "outputs": [],
   "source": [
    "x = 1    # int\n",
    "y = 2.8  # float\n",
    "z = 1j   # complex\n",
    "\n",
    "#convert from int to float:\n",
    "a = float(x)\n",
    "\n",
    "#convert from float to int:\n",
    "b = int(y)\n",
    "\n",
    "#convert from int to complex:\n",
    "c = complex(x)\n",
    "\n",
    "print(a)\n",
    "print(b)\n",
    "print(c)\n",
    "\n",
    "print(type(a))\n",
    "print(type(b))\n",
    "print(type(c))"
   ]
  },
  {
   "cell_type": "markdown",
   "id": "ccdbc60e",
   "metadata": {},
   "source": [
    "#### Random (Rastgele) Sayı\n",
    "Python'da rasgele sayı yapmak için bir random() işlevi yoktur, ancak Python'da rasgele sayılar yapmak için kullanılabilecek, rasgele adlı yerleşik bir modül vardır:"
   ]
  },
  {
   "cell_type": "markdown",
   "id": "c41d0ccd",
   "metadata": {},
   "source": [
    "Random modülü içe aktarın ve 1 ile 9 arasında rastgele bir sayı görüntüleyin:"
   ]
  },
  {
   "cell_type": "code",
   "execution_count": null,
   "id": "549c1739",
   "metadata": {},
   "outputs": [],
   "source": [
    "import random\n",
    "\n",
    "print(random.randrange(1, 10))"
   ]
  },
  {
   "cell_type": "markdown",
   "id": "695e482f",
   "metadata": {},
   "source": [
    "#### String Veriler\n",
    "\n",
    "Python'daki dizeler yani string, tek tırnak işaretleri veya çift tırnak işaretleri ile çevrilidir.\n",
    "\n",
    "\"merhaba\", \"merhaba\" ile aynıdır.\n",
    "\n",
    "print() işleviyle bir dize değişmezi görüntüleyebilirsiniz:"
   ]
  },
  {
   "cell_type": "code",
   "execution_count": null,
   "id": "685e07ef",
   "metadata": {},
   "outputs": [],
   "source": [
    "print(\"Hello\")\n",
    "print('Hello')"
   ]
  },
  {
   "cell_type": "markdown",
   "id": "711d9f40",
   "metadata": {},
   "source": [
    "#### Çok Satırlı Dizeler\n",
    "Üç tırnak kullanarak bir değişkene çok satırlı bir dize atayabilirsiniz:"
   ]
  },
  {
   "cell_type": "code",
   "execution_count": null,
   "id": "0d61903e",
   "metadata": {},
   "outputs": [],
   "source": [
    "a = \"\"\"Lorem ipsum dolor sit amet,\n",
    "consectetur adipiscing elit,\n",
    "sed do eiusmod tempor incididunt\n",
    "ut labore et dolore magna aliqua.\"\"\"\n",
    "print(a)"
   ]
  },
  {
   "cell_type": "code",
   "execution_count": null,
   "id": "98560801",
   "metadata": {},
   "outputs": [],
   "source": [
    "a = '''Lorem ipsum dolor sit amet,\n",
    "consectetur adipiscing elit,\n",
    "sed do eiusmod tempor incididunt\n",
    "ut labore et dolore magna aliqua.'''\n",
    "print(a)"
   ]
  },
  {
   "cell_type": "markdown",
   "id": "3d7eef3d",
   "metadata": {},
   "source": [
    "### Dilimleme\n",
    "Slice sözdizimini kullanarak bir dizi karakter döndürebilirsiniz.\n",
    "\n",
    "Dizenin bir bölümünü döndürmek için başlangıç dizinini ve bitiş dizinini iki nokta üst üste ile ayırarak belirtin.\n",
    "\n",
    "*Not: İlk karakterin indeksi 0'dır.*"
   ]
  },
  {
   "cell_type": "code",
   "execution_count": null,
   "id": "f54aa535",
   "metadata": {},
   "outputs": [],
   "source": [
    "b = \"Hello, World!\"\n",
    "print(b[2:5])"
   ]
  },
  {
   "cell_type": "markdown",
   "id": "fc186e49",
   "metadata": {},
   "source": [
    "#### Baştan Kesme\n",
    "Başlangıç dizinini dışarıda bırakarak, aralık ilk karakterden başlar:"
   ]
  },
  {
   "cell_type": "code",
   "execution_count": null,
   "id": "b7699b26",
   "metadata": {},
   "outputs": [],
   "source": [
    "b = \"Hello, World!\"\n",
    "print(b[:5])"
   ]
  },
  {
   "cell_type": "markdown",
   "id": "43df3533",
   "metadata": {},
   "source": [
    "#### Sonuna Kadar Kesme\n",
    "Bitiş dizinini dışarıda bırakarak, aralık sonuna kadar gidecektir:"
   ]
  },
  {
   "cell_type": "code",
   "execution_count": null,
   "id": "938c8356",
   "metadata": {},
   "outputs": [],
   "source": [
    "b = \"Hello, World!\"\n",
    "print(b[2:])"
   ]
  },
  {
   "cell_type": "markdown",
   "id": "b3f40677",
   "metadata": {},
   "source": [
    "### Python - Dizeleri (String) Değiştirme\n",
    "\n",
    "Python, dizelerde kullanabileceğiniz bir dizi yerleşik yönteme sahiptir.\n",
    "\n",
    "#### Upper Case\n",
    "\n",
    "upper() yöntemi, dizeyi büyük harfle döndürür:"
   ]
  },
  {
   "cell_type": "code",
   "execution_count": null,
   "id": "490fc1a1",
   "metadata": {},
   "outputs": [],
   "source": [
    "a = \"Hello, World!\"\n",
    "print(a.upper())"
   ]
  },
  {
   "cell_type": "markdown",
   "id": "8c15d3b5",
   "metadata": {},
   "source": [
    "#### Lower Case\n",
    "\n",
    "lower() yöntemi, dizeyi küçük harfle döndürür:"
   ]
  },
  {
   "cell_type": "code",
   "execution_count": null,
   "id": "c74ca6d7",
   "metadata": {},
   "outputs": [],
   "source": [
    "a = \"Hello, World!\"\n",
    "print(a.lower())"
   ]
  },
  {
   "cell_type": "markdown",
   "id": "50686329",
   "metadata": {},
   "source": [
    "#### Boşluğu Kaldırma\n",
    "Boşluk, asıl metinden önceki ve/veya sonraki boşluktur ve çoğu zaman bu boşluğu kaldırmak istersiniz.\n",
    "\n",
    "strip() yöntemi, başlangıçtaki veya sondaki tüm boşlukları kaldırır:"
   ]
  },
  {
   "cell_type": "code",
   "execution_count": null,
   "id": "ec430b3e",
   "metadata": {},
   "outputs": [],
   "source": [
    "a = \" Hello, World! \"\n",
    "print(a.strip()) "
   ]
  },
  {
   "cell_type": "markdown",
   "id": "e05ce45c",
   "metadata": {},
   "source": [
    "#### Dizeyi Değiştirme\n",
    "replace() yöntemi, bir dizeyi başka bir dizeyle değiştirir:"
   ]
  },
  {
   "cell_type": "code",
   "execution_count": null,
   "id": "4fd16307",
   "metadata": {},
   "outputs": [],
   "source": [
    "a = \"Hello, World!\"\n",
    "print(a.replace(\"H\", \"J\"))"
   ]
  },
  {
   "cell_type": "markdown",
   "id": "9b2d8804",
   "metadata": {},
   "source": [
    "#### Bölünmüş Dize - Split\n",
    "split() yöntemi, belirtilen ayırıcı arasındaki metnin liste öğeleri haline geldiği bir liste döndürür."
   ]
  },
  {
   "cell_type": "code",
   "execution_count": null,
   "id": "8bf0dff8",
   "metadata": {},
   "outputs": [],
   "source": [
    "a = \"Hello, World!\"\n",
    "print(a.split(\",\"))"
   ]
  },
  {
   "cell_type": "markdown",
   "id": "39db00ef",
   "metadata": {},
   "source": [
    "#### Dize Birleştirme\n",
    "İki dizeyi birleştirmek veya birleştirmek için + operatörünü kullanabilirsiniz."
   ]
  },
  {
   "cell_type": "code",
   "execution_count": null,
   "id": "b197d44b",
   "metadata": {},
   "outputs": [],
   "source": [
    "a = \"Hello\"\n",
    "b = \"World\"\n",
    "c = a + b\n",
    "print(c)"
   ]
  },
  {
   "cell_type": "code",
   "execution_count": null,
   "id": "6a65577a",
   "metadata": {},
   "outputs": [],
   "source": [
    "a = \"Hello\"\n",
    "b = \"World\"\n",
    "c = a + \" \" + b\n",
    "print(c)"
   ]
  },
  {
   "cell_type": "code",
   "execution_count": null,
   "id": "5731bba2",
   "metadata": {},
   "outputs": [],
   "source": []
  }
 ],
 "metadata": {
  "kernelspec": {
   "display_name": "Python 3 (ipykernel)",
   "language": "python",
   "name": "python3"
  },
  "language_info": {
   "codemirror_mode": {
    "name": "ipython",
    "version": 3
   },
   "file_extension": ".py",
   "mimetype": "text/x-python",
   "name": "python",
   "nbconvert_exporter": "python",
   "pygments_lexer": "ipython3",
   "version": "3.7.0"
  }
 },
 "nbformat": 4,
 "nbformat_minor": 5
}
