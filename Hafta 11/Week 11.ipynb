{
 "cells": [
  {
   "cell_type": "markdown",
   "id": "22235fb5",
   "metadata": {},
   "source": [
    "## Öğrendiğimiz kavramlar\n",
    "\n",
    "Class, init, method/attribute, method\n",
    "\n",
    "1. Methods (Metotlar)\n",
    "\n",
    "Self ile method içerisindeki değişkenleri kullanacağız.\n",
    "\n",
    "object() işlevi boş bir nesne döndürür.\n",
    "\n",
    "Bu nesneye yeni özellikler veya yöntemler ekleyemezsiniz.\n",
    "\n",
    "Bu nesne tüm sınıfların temelidir, tüm sınıflar için varsayılan olan yerleşik özellikleri ve yöntemleri içerir."
   ]
  },
  {
   "cell_type": "code",
   "execution_count": 15,
   "id": "e4143d6a",
   "metadata": {},
   "outputs": [],
   "source": [
    "class Square(object):\n",
    "    edge = 8 #meter\n",
    "    \n",
    "    def area(self):\n",
    "        area = self.edge*self.edge #8*8\n",
    "        print(\"Area:\",area)\n",
    "s1 = Square()"
   ]
  },
  {
   "cell_type": "code",
   "execution_count": 16,
   "id": "204d6bef",
   "metadata": {},
   "outputs": [
    {
     "name": "stdout",
     "output_type": "stream",
     "text": [
      "8\n"
     ]
    }
   ],
   "source": [
    "print(s1.edge)"
   ]
  },
  {
   "cell_type": "code",
   "execution_count": 17,
   "id": "ae71d56c",
   "metadata": {},
   "outputs": [
    {
     "name": "stdout",
     "output_type": "stream",
     "text": [
      "Area: 64\n"
     ]
    }
   ],
   "source": [
    "s1.area()"
   ]
  },
  {
   "cell_type": "markdown",
   "id": "7a1f5285",
   "metadata": {},
   "source": [
    "## Methods vs. Functions\n",
    "\n",
    "1- Fonksiyonların kullanım amacı kodların tekrar kullanılmasıdır.\n",
    "\n",
    "2- Fonksiyonlar adları ile çağrılır.\n",
    "\n",
    "3- Fonksiyonlar parametre alabilir ve aldıkları parametreleri işlevlerinde kullanabilirler.\n",
    "\n",
    "-------\n",
    "\n",
    "1- Metotların kullanım amacı kodların tekrar kullanılmasıdır.\n",
    "\n",
    "2- Metotlar sınıf içinde tanımlanırlar.\n",
    "\n",
    "3- Metorlar sınıf içinde tanımlanmış örneklemler (nesneler) üzerinden çağrılır.\n",
    "\n",
    "4- Metotlar parametre alabilirler.\n",
    "\n",
    "5- Metotlar sadece kullanıcı tarafından oluşturulur."
   ]
  },
  {
   "cell_type": "code",
   "execution_count": 37,
   "id": "6328ff38",
   "metadata": {},
   "outputs": [
    {
     "name": "stdout",
     "output_type": "stream",
     "text": [
      "Method:\n",
      " 0.025\n",
      "Function: \n",
      "0.016666666666666666\n"
     ]
    }
   ],
   "source": [
    "class Employee(object):\n",
    "    age = 25\n",
    "    salary = 1000 # $\n",
    "    #method\n",
    "    def ageSalaryRatio(self):\n",
    "        print(\"Method:\\n\",self.age / self.salary)\n",
    "#functions        \n",
    "def ageSalaryRatio(age, salary):\n",
    "    print(age/salary)\n",
    "emp1 = Employee()\n",
    "emp1.ageSalaryRatio()\n",
    "print(\"Function: \")\n",
    "ageSalaryRatio(30,1800)"
   ]
  },
  {
   "cell_type": "code",
   "execution_count": 31,
   "id": "66d1845f",
   "metadata": {},
   "outputs": [
    {
     "data": {
      "text/plain": [
       "78.5"
      ]
     },
     "execution_count": 31,
     "metadata": {},
     "output_type": "execute_result"
    }
   ],
   "source": [
    "pi = 3.14\n",
    "r = 5\n",
    "area=pi*r**2\n",
    "area"
   ]
  },
  {
   "cell_type": "code",
   "execution_count": 32,
   "id": "cfebec00",
   "metadata": {},
   "outputs": [],
   "source": [
    "def findArea(pi, r):\n",
    "    area=pi*r**2\n",
    "    print(area)"
   ]
  },
  {
   "cell_type": "code",
   "execution_count": 33,
   "id": "435a40e4",
   "metadata": {},
   "outputs": [
    {
     "name": "stdout",
     "output_type": "stream",
     "text": [
      "78.5\n"
     ]
    }
   ],
   "source": [
    "findArea(pi, r)"
   ]
  },
  {
   "cell_type": "code",
   "execution_count": 34,
   "id": "47de147c",
   "metadata": {},
   "outputs": [
    {
     "name": "stdout",
     "output_type": "stream",
     "text": [
      "314.0\n"
     ]
    }
   ],
   "source": [
    "result = findArea(pi, 10)"
   ]
  },
  {
   "cell_type": "code",
   "execution_count": 35,
   "id": "e5c1e048",
   "metadata": {},
   "outputs": [
    {
     "data": {
      "text/plain": [
       "314.0"
      ]
     },
     "execution_count": 35,
     "metadata": {},
     "output_type": "execute_result"
    }
   ],
   "source": [
    "def findArea(pi, r):\n",
    "    area=pi*r**2\n",
    "    #print(area)\n",
    "    return area\n",
    "findArea(pi, 10)"
   ]
  },
  {
   "cell_type": "markdown",
   "id": "e6bded4c",
   "metadata": {},
   "source": [
    "## Calculator - Hesap Makinesi Projesi"
   ]
  },
  {
   "cell_type": "code",
   "execution_count": 38,
   "id": "fdbd83df",
   "metadata": {},
   "outputs": [],
   "source": [
    "class Calc(object):\n",
    "    \"calculator\"\n",
    "    #init method\n",
    "    def __init__(self, a, b):\n",
    "        \"initialize values - docstring\"\n",
    "        #attributes\n",
    "        self.value1 = a\n",
    "        self.value2 = b\n",
    "        \n",
    "    def add(self):\n",
    "        \"addition a+b = result -> return result\"\n",
    "        return self.value1 + self.value2\n",
    "    \n",
    "    def multiply(self):\n",
    "        \"multiplication a*b = result -> return result\"\n",
    "        return self.value1 * self.value2"
   ]
  },
  {
   "cell_type": "code",
   "execution_count": 39,
   "id": "c999e35e",
   "metadata": {},
   "outputs": [],
   "source": [
    "v1 = 10\n",
    "v2 = 9\n",
    "c1 = Calc(v1, v2)"
   ]
  },
  {
   "cell_type": "code",
   "execution_count": 45,
   "id": "390cb736",
   "metadata": {},
   "outputs": [
    {
     "name": "stdout",
     "output_type": "stream",
     "text": [
      "Addition: 19, Multiply result: 90\n"
     ]
    }
   ],
   "source": [
    "add_result = c1.add()\n",
    "mult_result = c1.multiply()\n",
    "print(\"Addition: {}, Multiply result: {}\".format(add_result, mult_result))"
   ]
  },
  {
   "cell_type": "code",
   "execution_count": 46,
   "id": "431a9146",
   "metadata": {},
   "outputs": [
    {
     "name": "stdout",
     "output_type": "stream",
     "text": [
      "Choose add(1), multiply(2)\n",
      "Select 1 or 21\n"
     ]
    }
   ],
   "source": [
    "print(\"Choose add(1), multiply(2)\")\n",
    "select = input(\"Select 1 or 2\")"
   ]
  },
  {
   "cell_type": "code",
   "execution_count": 47,
   "id": "2931565f",
   "metadata": {},
   "outputs": [
    {
     "data": {
      "text/plain": [
       "'1'"
      ]
     },
     "execution_count": 47,
     "metadata": {},
     "output_type": "execute_result"
    }
   ],
   "source": [
    "select"
   ]
  },
  {
   "cell_type": "code",
   "execution_count": 49,
   "id": "0a25218e",
   "metadata": {},
   "outputs": [
    {
     "name": "stdout",
     "output_type": "stream",
     "text": [
      "First value 7\n",
      "Second value 8\n"
     ]
    }
   ],
   "source": [
    "v1 = input(\"First value \")\n",
    "v2 = input(\"Second value \")"
   ]
  },
  {
   "cell_type": "code",
   "execution_count": 50,
   "id": "1c18c791",
   "metadata": {},
   "outputs": [
    {
     "data": {
      "text/plain": [
       "'78'"
      ]
     },
     "execution_count": 50,
     "metadata": {},
     "output_type": "execute_result"
    }
   ],
   "source": [
    "v1 + v2"
   ]
  },
  {
   "cell_type": "code",
   "execution_count": 51,
   "id": "947792d1",
   "metadata": {},
   "outputs": [
    {
     "name": "stdout",
     "output_type": "stream",
     "text": [
      "First value 7\n",
      "Second value 8\n"
     ]
    }
   ],
   "source": [
    "v1 = int(input(\"First value \"))\n",
    "v2 = int(input(\"Second value \"))"
   ]
  },
  {
   "cell_type": "code",
   "execution_count": 52,
   "id": "00247555",
   "metadata": {},
   "outputs": [
    {
     "data": {
      "text/plain": [
       "15"
      ]
     },
     "execution_count": 52,
     "metadata": {},
     "output_type": "execute_result"
    }
   ],
   "source": [
    "v1 + v2"
   ]
  },
  {
   "cell_type": "code",
   "execution_count": 67,
   "id": "1fe5bafb",
   "metadata": {},
   "outputs": [
    {
     "name": "stdout",
     "output_type": "stream",
     "text": [
      "Choose add(1), multiply(2)\n",
      "Select 1 or 2: 2\n",
      "First value 6\n",
      "Second value 4\n",
      "Multiply: 24\n"
     ]
    }
   ],
   "source": [
    "class Calc(object):\n",
    "    \"calculator\"\n",
    "    #init method\n",
    "    def __init__(self, a, b):\n",
    "        \"initialize values - docstring\"\n",
    "        #attributes\n",
    "        self.value1 = a\n",
    "        self.value2 = b\n",
    "        \n",
    "    def add(self):\n",
    "        \"addition a+b = result -> return result\"\n",
    "        return self.value1 + self.value2\n",
    "    \n",
    "    def multiply(self):\n",
    "        \"multiplication a*b = result -> return result\"\n",
    "        return self.value1 * self.value2\n",
    "print(\"Choose add(1), multiply(2)\")\n",
    "select = input(\"Select 1 or 2: \")\n",
    "\n",
    "v1 = int(input(\"First value \"))\n",
    "v2 = int(input(\"Second value \"))\n",
    "c2 = Calc(v1, v2)\n",
    "if select == \"1\":\n",
    "    add_result = c2.add()\n",
    "    print(\"Addition: {}\".format(add_result))\n",
    "elif select == \"2\":\n",
    "    mult_result = c2.multiply()\n",
    "    print(\"Multiply: {}\".format(mult_result))"
   ]
  },
  {
   "cell_type": "markdown",
   "id": "43184abc",
   "metadata": {},
   "source": [
    "## Assignment - Ödev\n",
    "\n",
    "c3 adında bir obje tanımlayarak çıkarma ve bölme işlemlerini hazırlayan Python kodunu yazınız. \n",
    "Deadline: 4 Aralık 2022"
   ]
  },
  {
   "cell_type": "markdown",
   "id": "949286df",
   "metadata": {},
   "source": [
    "## Encapsulation - Kapsülleme\n",
    "\n",
    "Kapsülleme (ya da Sarma) nesne yönelimli programlamada herhangi bir nesnenin metotlarını, verilerini ve değiskenlerini diğer nesnelerden saklayarak ve bunlara erişimini sınırlandırarak yanlış kullanımlardan koruyan bir konsepttir. Bir nesne üzerinde hem veri soyutlama, hem de kontrol soyutlaması yapılıyor ise buna sarma adı verilir.\n",
    "\n",
    "Değişken veya metotun doğrudan erişilebilmesini sınırlar."
   ]
  },
  {
   "cell_type": "code",
   "execution_count": 79,
   "id": "69ca13c5",
   "metadata": {},
   "outputs": [],
   "source": [
    "class BankAccount(object):\n",
    "    \n",
    "    def __init__(self, name, money, address):\n",
    "        self.name = name #global\n",
    "        self.money = money #global\n",
    "        self.address = address #global\n",
    "person1 = BankAccount(\"Michael\", 1000, \"Spain\")\n",
    "person2 = BankAccount(\"Carla\", 3000, \"France\")"
   ]
  },
  {
   "cell_type": "code",
   "execution_count": 74,
   "id": "3fd9457a",
   "metadata": {},
   "outputs": [
    {
     "data": {
      "text/plain": [
       "'Michael'"
      ]
     },
     "execution_count": 74,
     "metadata": {},
     "output_type": "execute_result"
    }
   ],
   "source": [
    "person1.name"
   ]
  },
  {
   "cell_type": "code",
   "execution_count": 75,
   "id": "d6fd855b",
   "metadata": {},
   "outputs": [
    {
     "data": {
      "text/plain": [
       "1000"
      ]
     },
     "execution_count": 75,
     "metadata": {},
     "output_type": "execute_result"
    }
   ],
   "source": [
    "person1.money"
   ]
  },
  {
   "cell_type": "code",
   "execution_count": 80,
   "id": "1bb6f91a",
   "metadata": {},
   "outputs": [
    {
     "data": {
      "text/plain": [
       "4000"
      ]
     },
     "execution_count": 80,
     "metadata": {},
     "output_type": "execute_result"
    }
   ],
   "source": [
    "person2.money = person2.money + person1.money\n",
    "person1.money=0\n",
    "person2.money"
   ]
  },
  {
   "cell_type": "code",
   "execution_count": 81,
   "id": "091c64dc",
   "metadata": {},
   "outputs": [
    {
     "data": {
      "text/plain": [
       "0"
      ]
     },
     "execution_count": 81,
     "metadata": {},
     "output_type": "execute_result"
    }
   ],
   "source": [
    "person1.money"
   ]
  },
  {
   "cell_type": "code",
   "execution_count": 82,
   "id": "8f0576ce",
   "metadata": {},
   "outputs": [],
   "source": [
    "#Dışarıdan erişim sağlanması doğru değildir - global değişkenleri private yapmalıyız\n",
    "class BankAccount(object):\n",
    "    \n",
    "    def __init__(self, name, money, address):\n",
    "        self.name = name #global\n",
    "        self.__money = money #global\n",
    "        self.address = address #global"
   ]
  },
  {
   "cell_type": "code",
   "execution_count": 83,
   "id": "692192ca",
   "metadata": {},
   "outputs": [],
   "source": [
    "person1 = BankAccount(\"Michael\", 1000, \"Spain\")\n",
    "person2 = BankAccount(\"Carla\", 3000, \"France\")"
   ]
  },
  {
   "cell_type": "code",
   "execution_count": 84,
   "id": "9389d788",
   "metadata": {},
   "outputs": [
    {
     "ename": "AttributeError",
     "evalue": "'BankAccount' object has no attribute 'money'",
     "output_type": "error",
     "traceback": [
      "\u001b[1;31m---------------------------------------------------------------------------\u001b[0m",
      "\u001b[1;31mAttributeError\u001b[0m                            Traceback (most recent call last)",
      "\u001b[1;32m<ipython-input-84-9a04700b069d>\u001b[0m in \u001b[0;36m<module>\u001b[1;34m\u001b[0m\n\u001b[1;32m----> 1\u001b[1;33m \u001b[0mperson1\u001b[0m\u001b[1;33m.\u001b[0m\u001b[0mmoney\u001b[0m\u001b[1;33m\u001b[0m\u001b[1;33m\u001b[0m\u001b[0m\n\u001b[0m",
      "\u001b[1;31mAttributeError\u001b[0m: 'BankAccount' object has no attribute 'money'"
     ]
    }
   ],
   "source": [
    "person1.money"
   ]
  },
  {
   "cell_type": "code",
   "execution_count": 85,
   "id": "feeca28a",
   "metadata": {},
   "outputs": [
    {
     "ename": "AttributeError",
     "evalue": "'BankAccount' object has no attribute 'money'",
     "output_type": "error",
     "traceback": [
      "\u001b[1;31m---------------------------------------------------------------------------\u001b[0m",
      "\u001b[1;31mAttributeError\u001b[0m                            Traceback (most recent call last)",
      "\u001b[1;32m<ipython-input-85-be91bc95a334>\u001b[0m in \u001b[0;36m<module>\u001b[1;34m\u001b[0m\n\u001b[1;32m----> 1\u001b[1;33m \u001b[0mperson2\u001b[0m\u001b[1;33m.\u001b[0m\u001b[0mmoney\u001b[0m\u001b[1;33m\u001b[0m\u001b[1;33m\u001b[0m\u001b[0m\n\u001b[0m",
      "\u001b[1;31mAttributeError\u001b[0m: 'BankAccount' object has no attribute 'money'"
     ]
    }
   ],
   "source": [
    "person2.money"
   ]
  },
  {
   "cell_type": "code",
   "execution_count": 86,
   "id": "b42fd8e5",
   "metadata": {},
   "outputs": [
    {
     "data": {
      "text/plain": [
       "'Carla'"
      ]
     },
     "execution_count": 86,
     "metadata": {},
     "output_type": "execute_result"
    }
   ],
   "source": [
    "person2.name"
   ]
  },
  {
   "cell_type": "markdown",
   "id": "db8b09ef",
   "metadata": {},
   "source": [
    "### Banka hesabı olduğu için mutlaka bir şekilde görünmesi gereklidir!\n",
    "\n",
    "Get ve set metotları kullanılabilir."
   ]
  },
  {
   "cell_type": "code",
   "execution_count": 95,
   "id": "b4ae0298",
   "metadata": {},
   "outputs": [],
   "source": [
    "#Dışarıdan erişim sağlanması doğru değildir - global değişkenleri private yapmalıyız\n",
    "class BankAccount(object):\n",
    "    \n",
    "    def __init__(self, name, money, address):\n",
    "        self.name = name #global\n",
    "        self.__money = money #global\n",
    "        self.address = address #global\n",
    "        \n",
    "        def getMoney(self): #erişim sağlamak, almak\n",
    "            pass\n",
    "        def setMoney(self, amount): #parayı yatırmak veya çekmek \n",
    "            pass"
   ]
  },
  {
   "cell_type": "code",
   "execution_count": 103,
   "id": "45bfcd83",
   "metadata": {},
   "outputs": [
    {
     "name": "stdout",
     "output_type": "stream",
     "text": [
      "Get method:  1000\n",
      "Set method: 2000\n"
     ]
    }
   ],
   "source": [
    "#Dışarıdan erişim sağlanması doğru değildir - global değişkenleri private yapmalıyız\n",
    "class BankAccount(object):\n",
    "    \n",
    "    def __init__(self, name, money, address):\n",
    "        self.name = name #global\n",
    "        self.__money = money #global\n",
    "        self.address = address #global\n",
    "        #global \n",
    "    def getMoney(self): #erişim sağlamak, almak\n",
    "        return self.__money\n",
    "        #global \n",
    "    def setMoney(self, amount): #parayı yatırmak veya çekmek  - modify, adjust\n",
    "        self.__money = amount\n",
    "        \n",
    "p1 = BankAccount(\"Michael\", 1000, \"Spain\")\n",
    "p2 = BankAccount(\"Carla\", 3000, \"France\")\n",
    "\n",
    "print(\"Get method: \", p1.getMoney())\n",
    "#print(\"Without get method: \", p1.__money)\n",
    "p1.setMoney(2000)\n",
    "print(\"Set method:\", p1.getMoney())"
   ]
  },
  {
   "cell_type": "code",
   "execution_count": 113,
   "id": "3d963533",
   "metadata": {},
   "outputs": [
    {
     "name": "stdout",
     "output_type": "stream",
     "text": [
      "After raise money:  1500\n"
     ]
    }
   ],
   "source": [
    "#Dışarıdan erişim sağlanması doğru değildir - global değişkenleri private yapmalıyız\n",
    "class BankAccount():\n",
    "    \n",
    "    def __init__(self, name, money, address):\n",
    "        self.name = name #global\n",
    "        self.__money = money #global\n",
    "        self.address = address #global\n",
    "        #global \n",
    "    def getMoney(self): #erişim sağlamak, almak\n",
    "        return self.__money\n",
    "        #global \n",
    "    def setMoney(self, amount): #parayı yatırmak veya çekmek  - modify, adjust\n",
    "        self.__money = amount\n",
    "    def raiseMoney(self):\n",
    "        self.__money = self.__money + 500\n",
    "p1 = BankAccount(\"Michael\", 1000, \"Spain\")\n",
    "p2 = BankAccount(\"Carla\", 3000, \"France\")\n",
    "\n",
    "p1.raiseMoney()\n",
    "print(\"After raise money: \",p1.getMoney())"
   ]
  },
  {
   "cell_type": "markdown",
   "id": "f88fdd58",
   "metadata": {},
   "source": [
    "## Miras, Kalıtım - Inheritance\n",
    "\n",
    " Biz, programlama yaparken birden fazla class kullanabiliriz. Yazmış olduğumuz bir class‘a ait özellikleri başka bir class‘ta kullanmak istediğimizde bu özellikleri kalıtım yoluyla almaktayız. Bu işleme miras almak da denilmektedir. Tıpkı bir çocuğun annesine ya da babasına ait birkaç özelliği alması gibi class‘lar da özelliklerini birbirlerinden inheritance yoluyla alabilir. \n",
    " \n",
    " Child ve parent olmak üzere 2 farklı class yapısını kullanır.\n",
    "\n",
    "* Ebeveyn sınıf; değişkenlerini ve fonksiyonlarını kalıtım ile kullandırır. (parent)\n",
    "* Çocuk sınıf; ebeveyn sınıftan kalıtım ile değişken ve methodaları alarak kullanabilir. (child) - Ebeveynden türetilmiş"
   ]
  },
  {
   "cell_type": "code",
   "execution_count": 115,
   "id": "e7aebc43",
   "metadata": {},
   "outputs": [
    {
     "name": "stdout",
     "output_type": "stream",
     "text": [
      "Animal is created\n",
      "Monkey is created..\n"
     ]
    }
   ],
   "source": [
    "#parent class\n",
    "class Animal:\n",
    "    def __init__(self):\n",
    "        print(\"Animal is created\")\n",
    "        \n",
    "    def toString(self):\n",
    "        print(\"Animal\")\n",
    "        \n",
    "    def walk(self):\n",
    "        print(\"Animal is walk\")\n",
    "        \n",
    "#child class\n",
    "class Monkey(Animal): #Animal sınıfının çocuğu\n",
    "    def __init__(self):\n",
    "        super().__init__()  #use init of parent - Parent classının initialize içeriğini childa aktarıyor\n",
    "        print(\"Monkey is created..\")\n",
    "        \n",
    "    def toString(self):\n",
    "        print(\"Monkey\")\n",
    "        \n",
    "    def climb(self):\n",
    "        print(\"Monkey can climb\")\n",
    "        \n",
    "monkey1 = Monkey()"
   ]
  },
  {
   "cell_type": "code",
   "execution_count": 116,
   "id": "ba54dee3",
   "metadata": {},
   "outputs": [
    {
     "name": "stdout",
     "output_type": "stream",
     "text": [
      "Monkey\n"
     ]
    }
   ],
   "source": [
    "monkey1.toString()"
   ]
  },
  {
   "cell_type": "code",
   "execution_count": 117,
   "id": "c507b41f",
   "metadata": {},
   "outputs": [
    {
     "name": "stdout",
     "output_type": "stream",
     "text": [
      "Animal is walk\n"
     ]
    }
   ],
   "source": [
    "monkey1.walk()"
   ]
  },
  {
   "cell_type": "code",
   "execution_count": 118,
   "id": "984a23f9",
   "metadata": {},
   "outputs": [
    {
     "name": "stdout",
     "output_type": "stream",
     "text": [
      "Monkey can climb\n"
     ]
    }
   ],
   "source": [
    "monkey1.climb()"
   ]
  },
  {
   "cell_type": "code",
   "execution_count": 121,
   "id": "de745a56",
   "metadata": {},
   "outputs": [],
   "source": [
    "class Bird(Animal):\n",
    "    def __init__(self):\n",
    "        super().__init__()\n",
    "        print(\"Bird is created\")\n",
    "    \n",
    "    def fly(self):\n",
    "        print(\"Bird can fly\")"
   ]
  },
  {
   "cell_type": "code",
   "execution_count": 122,
   "id": "53cf4762",
   "metadata": {},
   "outputs": [
    {
     "name": "stdout",
     "output_type": "stream",
     "text": [
      "Animal is created\n",
      "Bird is created\n"
     ]
    }
   ],
   "source": [
    "bird1 = Bird()"
   ]
  },
  {
   "cell_type": "code",
   "execution_count": 123,
   "id": "e2b18abb",
   "metadata": {},
   "outputs": [
    {
     "name": "stdout",
     "output_type": "stream",
     "text": [
      "Bird can fly\n"
     ]
    }
   ],
   "source": [
    "bird1.fly()"
   ]
  },
  {
   "cell_type": "code",
   "execution_count": 124,
   "id": "60f8d69d",
   "metadata": {},
   "outputs": [
    {
     "name": "stdout",
     "output_type": "stream",
     "text": [
      "Animal\n"
     ]
    }
   ],
   "source": [
    "bird1.toString()"
   ]
  },
  {
   "cell_type": "code",
   "execution_count": 125,
   "id": "a9c87a65",
   "metadata": {},
   "outputs": [
    {
     "name": "stdout",
     "output_type": "stream",
     "text": [
      "Animal is walk\n"
     ]
    }
   ],
   "source": [
    "bird1.walk()"
   ]
  },
  {
   "cell_type": "code",
   "execution_count": 126,
   "id": "6ca49480",
   "metadata": {},
   "outputs": [
    {
     "ename": "AttributeError",
     "evalue": "'Bird' object has no attribute 'climb'",
     "output_type": "error",
     "traceback": [
      "\u001b[1;31m---------------------------------------------------------------------------\u001b[0m",
      "\u001b[1;31mAttributeError\u001b[0m                            Traceback (most recent call last)",
      "\u001b[1;32m<ipython-input-126-b0080b3bafd4>\u001b[0m in \u001b[0;36m<module>\u001b[1;34m\u001b[0m\n\u001b[1;32m----> 1\u001b[1;33m \u001b[0mbird1\u001b[0m\u001b[1;33m.\u001b[0m\u001b[0mclimb\u001b[0m\u001b[1;33m(\u001b[0m\u001b[1;33m)\u001b[0m\u001b[1;33m\u001b[0m\u001b[1;33m\u001b[0m\u001b[0m\n\u001b[0m",
      "\u001b[1;31mAttributeError\u001b[0m: 'Bird' object has no attribute 'climb'"
     ]
    }
   ],
   "source": [
    "bird1.climb()"
   ]
  },
  {
   "attachments": {
    "soru.png": {
     "image/png": "[encoded data removed]"
    }
   },
   "cell_type": "markdown",
   "id": "14f0dc45",
   "metadata": {},
   "source": [
    "![soru.png](attachment:soru.png)"
   ]
  },
  {
   "cell_type": "markdown",
   "id": "8164e740",
   "metadata": {},
   "source": [
    "## Inheritance Project"
   ]
  },
  {
   "attachments": {
    "proje.png": {
     "image/png": "[encoded data removed]"
    }
   },
   "cell_type": "markdown",
   "id": "0d4d473f",
   "metadata": {},
   "source": [
    "![proje.png](attachment:proje.png)"
   ]
  },
  {
   "cell_type": "code",
   "execution_count": 127,
   "id": "13fe305f",
   "metadata": {},
   "outputs": [],
   "source": [
    "class Website:\n",
    "    \"parent class\"\n",
    "    def __init__(self, name, surname):\n",
    "        self.name = name\n",
    "        self.surname = surname\n",
    "        \n",
    "    def loginInfo(self):\n",
    "        print(self.name + \" \" + self.surname)"
   ]
  },
  {
   "cell_type": "code",
   "execution_count": 130,
   "id": "d5f42160",
   "metadata": {},
   "outputs": [],
   "source": [
    "p1 = Website(\"Buse Yaren\", \"Tekin\")"
   ]
  },
  {
   "cell_type": "code",
   "execution_count": 131,
   "id": "ac1d4217",
   "metadata": {},
   "outputs": [
    {
     "name": "stdout",
     "output_type": "stream",
     "text": [
      "Buse Yaren Tekin\n"
     ]
    }
   ],
   "source": [
    "p1.loginInfo()"
   ]
  },
  {
   "cell_type": "code",
   "execution_count": 132,
   "id": "4d6999c0",
   "metadata": {},
   "outputs": [],
   "source": [
    "class Website:\n",
    "    \"parent class\"\n",
    "    def __init__(self, name, surname):\n",
    "        self.name = name\n",
    "        self.surname = surname\n",
    "        \n",
    "    def loginInfo(self):\n",
    "        print(self.name + \" \" + self.surname)\n",
    "        \n",
    "class Website1(Website):\n",
    "    \"child class\"\n",
    "    def __init__(self, name, surname, id):\n",
    "        Website.__init__(self, name, surname) #parent classın initini çağırır.\n",
    "        self.id = id\n",
    "    def login(self): #parent classında name ve surname initialize edilir.\n",
    "        print(self.name + \" \"+ self.surname + \" \" +self.id)\n",
    "p2 = Website1(\"Buse Yaren\", \"Tekin\", \"37\")"
   ]
  },
  {
   "cell_type": "code",
   "execution_count": 133,
   "id": "6f239204",
   "metadata": {},
   "outputs": [
    {
     "data": {
      "text/plain": [
       "'37'"
      ]
     },
     "execution_count": 133,
     "metadata": {},
     "output_type": "execute_result"
    }
   ],
   "source": [
    "p2.id"
   ]
  },
  {
   "cell_type": "code",
   "execution_count": 135,
   "id": "587f4827",
   "metadata": {},
   "outputs": [
    {
     "name": "stdout",
     "output_type": "stream",
     "text": [
      "Buse Yaren Tekin 37\n"
     ]
    }
   ],
   "source": [
    "p2.login()"
   ]
  },
  {
   "cell_type": "code",
   "execution_count": 136,
   "id": "be18baeb",
   "metadata": {},
   "outputs": [
    {
     "name": "stdout",
     "output_type": "stream",
     "text": [
      "Buse Yaren Tekin\n"
     ]
    }
   ],
   "source": [
    "p2.loginInfo()"
   ]
  },
  {
   "cell_type": "markdown",
   "id": "c1939c07",
   "metadata": {},
   "source": [
    "## Assignment - Ödev 2\n",
    "\n",
    "Website2 adında bir sınıf oluşturarak initializer metodunda name, surname ve email parametreleri alarak kendi içerisinde email'i initalize ettikten sonra o sınıfa ait bir login sınıfı oluştur.\n",
    "Deadline: 4 Aralık 2022"
   ]
  }
 ],
 "metadata": {
  "kernelspec": {
   "display_name": "Python 3",
   "language": "python",
   "name": "python3"
  },
  "language_info": {
   "codemirror_mode": {
    "name": "ipython",
    "version": 3
   },
   "file_extension": ".py",
   "mimetype": "text/x-python",
   "name": "python",
   "nbconvert_exporter": "python",
   "pygments_lexer": "ipython3",
   "version": "3.6.13"
  }
 },
 "nbformat": 4,
 "nbformat_minor": 5
}
