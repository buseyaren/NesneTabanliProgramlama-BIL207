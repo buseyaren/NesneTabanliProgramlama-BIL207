{
 "cells": [
  {
   "cell_type": "markdown",
   "id": "81abf1f1",
   "metadata": {},
   "source": [
    "## Python Boole'leri - Python Booleans\n",
    "\n",
    "Programlamada genellikle bir ifadenin Doğru mu Yanlış mı olduğunu bilmeniz gerekir. Python'da herhangi bir ifadeyi değerlendirebilir ve True veya False olmak üzere iki yanıttan birini alabilirsiniz. İki değeri karşılaştırdığınızda, ifade değerlendirilir ve Python Boolean yanıtını döndürür:\n",
    "\n",
    "*Boole değerleri iki değerden birini temsil eder: True veya False.*"
   ]
  },
  {
   "cell_type": "code",
   "execution_count": 1,
   "id": "2d6a983d",
   "metadata": {},
   "outputs": [
    {
     "name": "stdout",
     "output_type": "stream",
     "text": [
      "True\n",
      "False\n",
      "False\n"
     ]
    }
   ],
   "source": [
    "print(10 > 9) #True \n",
    "print(10 == 9) #False\n",
    "print(10 < 9) #False"
   ]
  },
  {
   "cell_type": "markdown",
   "id": "faf4af63",
   "metadata": {},
   "source": [
    "#### Bir if ifadesinde bir koşul çalıştırdığınızda Python, True veya False değerini döndürür:"
   ]
  },
  {
   "cell_type": "code",
   "execution_count": 4,
   "id": "a36b6373",
   "metadata": {},
   "outputs": [
    {
     "name": "stdout",
     "output_type": "stream",
     "text": [
      "b is not greater than a\n"
     ]
    }
   ],
   "source": [
    "a = 200\n",
    "b = 33\n",
    "\n",
    "if b > a:   #33 > 200 False\n",
    "    print(\"b is greater than a\") \n",
    "# Elseif - elif\n",
    "else:\n",
    "    print(\"b is not greater than a\")"
   ]
  },
  {
   "cell_type": "markdown",
   "id": "b33e22cc",
   "metadata": {},
   "source": [
    "#### Değerleri ve Değişkenleri Değerlendirme\n",
    "\n",
    "**bool(  )** işlevi, herhangi bir değeri değerlendirmenize ve karşılığında size True veya False vermenize izin verir."
   ]
  },
  {
   "cell_type": "code",
   "execution_count": 7,
   "id": "a5049ff8",
   "metadata": {},
   "outputs": [
    {
     "name": "stdout",
     "output_type": "stream",
     "text": [
      "True\n",
      "False\n",
      "True\n"
     ]
    }
   ],
   "source": [
    "print(bool(\"Hello\"))\n",
    "print(bool(0))\n",
    "print(bool(15))"
   ]
  },
  {
   "cell_type": "markdown",
   "id": "0e81e298",
   "metadata": {},
   "source": [
    "#### Çoğu Değer = True\n",
    "\n",
    "Bir tür içeriğe sahipse, hemen hemen her değer True olarak değerlendirilir.\n",
    "\n",
    "Boş dizeler dışında herhangi bir dize True'dur.\n",
    "\n",
    "*0 dışında herhangi bir sayı True'dur.*\n",
    "\n",
    "Boş olanlar dışında herhangi bir liste, tanımlama grubu, küme ve sözlük True'dur."
   ]
  },
  {
   "cell_type": "code",
   "execution_count": 8,
   "id": "48627b9f",
   "metadata": {},
   "outputs": [
    {
     "name": "stdout",
     "output_type": "stream",
     "text": [
      "True\n",
      "True\n"
     ]
    }
   ],
   "source": [
    "x = \"Hello\"\n",
    "y = 15\n",
    "\n",
    "print(bool(x))\n",
    "print(bool(y))"
   ]
  },
  {
   "cell_type": "code",
   "execution_count": 9,
   "id": "432304e3",
   "metadata": {},
   "outputs": [
    {
     "name": "stdout",
     "output_type": "stream",
     "text": [
      "False\n"
     ]
    }
   ],
   "source": [
    "print(bool())"
   ]
  },
  {
   "cell_type": "code",
   "execution_count": 10,
   "id": "3dfb9bdf",
   "metadata": {},
   "outputs": [
    {
     "data": {
      "text/plain": [
       "True"
      ]
     },
     "execution_count": 10,
     "metadata": {},
     "output_type": "execute_result"
    }
   ],
   "source": [
    "bool(\"abc\")"
   ]
  },
  {
   "cell_type": "code",
   "execution_count": 11,
   "id": "d320c345",
   "metadata": {},
   "outputs": [
    {
     "data": {
      "text/plain": [
       "True"
      ]
     },
     "execution_count": 11,
     "metadata": {},
     "output_type": "execute_result"
    }
   ],
   "source": [
    "bool(123)"
   ]
  },
  {
   "cell_type": "code",
   "execution_count": 12,
   "id": "49cd8f04",
   "metadata": {},
   "outputs": [
    {
     "data": {
      "text/plain": [
       "True"
      ]
     },
     "execution_count": 12,
     "metadata": {},
     "output_type": "execute_result"
    }
   ],
   "source": [
    "bool([\"apple\", \"cherry\", \"banana\"])"
   ]
  },
  {
   "cell_type": "markdown",
   "id": "23765caf",
   "metadata": {},
   "source": [
    "#### Bazı Değerler = False\n",
    "\n",
    "Aslında **( )**, **[ ]**, **{ }**, **\" \"**, **0** sayısı ve **None(Yok)** değeri gibi boş değerler dışında False olarak değerlendirilen çok fazla değer yoktur. Ve elbette False değeri False olarak değerlendirilir."
   ]
  },
  {
   "cell_type": "code",
   "execution_count": 13,
   "id": "bfc0bce8",
   "metadata": {},
   "outputs": [
    {
     "data": {
      "text/plain": [
       "False"
      ]
     },
     "execution_count": 13,
     "metadata": {},
     "output_type": "execute_result"
    }
   ],
   "source": [
    "bool(False)"
   ]
  },
  {
   "cell_type": "code",
   "execution_count": 14,
   "id": "f33ba875",
   "metadata": {},
   "outputs": [
    {
     "data": {
      "text/plain": [
       "False"
      ]
     },
     "execution_count": 14,
     "metadata": {},
     "output_type": "execute_result"
    }
   ],
   "source": [
    "bool(None)\n",
    "bool(0)\n",
    "bool(\"\")\n",
    "bool(())\n",
    "bool([])\n",
    "bool({})"
   ]
  },
  {
   "cell_type": "code",
   "execution_count": 15,
   "id": "d662f782",
   "metadata": {},
   "outputs": [
    {
     "name": "stdout",
     "output_type": "stream",
     "text": [
      "<class 'int'>\n"
     ]
    }
   ],
   "source": [
    "x = 50\n",
    "print(type(x))"
   ]
  },
  {
   "cell_type": "markdown",
   "id": "57ae960a",
   "metadata": {},
   "source": [
    "Bu durumda bir değer veya nesne daha False olarak değerlendirilir ve bu, 0 veya False döndüren __len__ işlevine sahip bir sınıftan yapılmış bir nesneniz varsa:"
   ]
  },
  {
   "cell_type": "code",
   "execution_count": 26,
   "id": "d7e94a08",
   "metadata": {},
   "outputs": [
    {
     "name": "stdout",
     "output_type": "stream",
     "text": [
      "False\n"
     ]
    }
   ],
   "source": [
    "class myclass(): #class\n",
    "    def __len__(self): #function\n",
    "        return 0  #break\n",
    "print(bool(myclass()))"
   ]
  },
  {
   "cell_type": "markdown",
   "id": "3361eb20",
   "metadata": {},
   "source": [
    "### Fonksiyonlar Boolean Döndürebilir\n",
    "\n",
    "Boole Değeri döndüren işlevler oluşturabilirsiniz:"
   ]
  },
  {
   "cell_type": "code",
   "execution_count": 28,
   "id": "331daa44",
   "metadata": {},
   "outputs": [
    {
     "name": "stdout",
     "output_type": "stream",
     "text": [
      "False\n"
     ]
    }
   ],
   "source": [
    "def myFunction() :\n",
    "    return False\n",
    "\n",
    "print(myFunction())"
   ]
  },
  {
   "cell_type": "code",
   "execution_count": 29,
   "id": "ab39653f",
   "metadata": {},
   "outputs": [
    {
     "name": "stdout",
     "output_type": "stream",
     "text": [
      "YES!\n"
     ]
    }
   ],
   "source": [
    "def myFunction() :\n",
    "    return True\n",
    "\n",
    "if myFunction():\n",
    "    print(\"YES!\")\n",
    "else:\n",
    "    print(\"NO!\")"
   ]
  },
  {
   "cell_type": "markdown",
   "id": "72b3b89f",
   "metadata": {},
   "source": [
    "#### Python Operatörleri\n",
    "Operatörler, değişkenler ve değerler üzerinde işlem yapmak için kullanılır.\n",
    "\n",
    "Aşağıdaki örnekte, iki değeri bir araya getirmek için + operatörünü kullanıyoruz:"
   ]
  },
  {
   "cell_type": "code",
   "execution_count": null,
   "id": "556ea8ee",
   "metadata": {},
   "outputs": [],
   "source": [
    "print(10 + 5)"
   ]
  },
  {
   "cell_type": "markdown",
   "id": "854a7f5a",
   "metadata": {},
   "source": [
    "Python, operatörleri aşağıdaki gruplara ayırır:\n",
    "\n",
    "* Aritmetik operatörler\n",
    "* Atama operatörleri\n",
    "* Karşılaştırma operatörleri\n",
    "* Mantıksal operatörler\n",
    "* Kimlik operatörleri\n",
    "* Üyelik operatörleri\n",
    "* Bitsel operatörler\n",
    "\n",
    "### Python Atama Operatörleri\n",
    "#### +\tAddition\tx + y\t\n",
    "#### -\tSubtraction\tx - y\t\n",
    "#### *\tMultiplication\tx * y\t\n",
    "#### /\tDivision\tx / y\n",
    "#### % Modulus\tx % y\n",
    "#### ** Exponentiation\tx ** y\n",
    "#### // Floor division\tx // y"
   ]
  },
  {
   "cell_type": "code",
   "execution_count": null,
   "id": "447a9456",
   "metadata": {},
   "outputs": [],
   "source": [
    "x = 5\n",
    "\n",
    "x /= 3\n",
    "\n",
    "print(x)"
   ]
  },
  {
   "cell_type": "code",
   "execution_count": null,
   "id": "55ce514b",
   "metadata": {},
   "outputs": [],
   "source": [
    "x = 5\n",
    "\n",
    "x%=3\n",
    "\n",
    "print(x)"
   ]
  },
  {
   "cell_type": "code",
   "execution_count": null,
   "id": "b8f7c98b",
   "metadata": {},
   "outputs": [],
   "source": [
    "x = 5\n",
    "\n",
    "x//=3\n",
    "\n",
    "print(x)"
   ]
  },
  {
   "cell_type": "markdown",
   "id": "a00088a1",
   "metadata": {},
   "source": [
    "#### Python Mantıksal Operatörleri\n",
    "Mantıksal operatörler, koşullu ifadeleri birleştirmek için kullanılır:\n",
    "\n",
    "* and: her iki ifade de doğruysa Doğru döndürür x < 5 and x < 10 \n",
    "* or: İfadelerden biri doğruysa Doğru döndürür x < 5 or x < 4  \n",
    "* not: Sonucu tersine çevirir, sonuç doğruysa False döndürür  not(x < 5 ve x < 10)"
   ]
  },
  {
   "cell_type": "markdown",
   "id": "44d4bd21",
   "metadata": {},
   "source": [
    "#### Listeler - Devam"
   ]
  },
  {
   "cell_type": "code",
   "execution_count": null,
   "id": "6acda970",
   "metadata": {},
   "outputs": [],
   "source": [
    "thislist = [\"apple\", \"banana\", \"cherry\", \"apple\", \"cherry\"]\n",
    "\n",
    "print(thislist)"
   ]
  },
  {
   "cell_type": "markdown",
   "id": "70c225e9",
   "metadata": {},
   "source": [
    "#### Liste Uzunluğu\n",
    "Bir listenin kaç öğeye sahip olduğunu belirlemek için **len()** işlevini kullanın:"
   ]
  },
  {
   "cell_type": "code",
   "execution_count": null,
   "id": "ebadbd5f",
   "metadata": {},
   "outputs": [],
   "source": [
    "thislist = [\"apple\", \"banana\", \"cherry\"]\n",
    "print(len(thislist))"
   ]
  },
  {
   "cell_type": "markdown",
   "id": "7f486f7f",
   "metadata": {},
   "source": [
    "#### Liste Öğeleri - Veri Türleri\n",
    "Liste öğeleri herhangi bir veri türünde olabilir:"
   ]
  },
  {
   "cell_type": "code",
   "execution_count": null,
   "id": "1e2522a0",
   "metadata": {},
   "outputs": [],
   "source": [
    "list1 = [\"apple\", \"banana\", \"cherry\"]\n",
    "list2 = [1, 5, 7, 9, 3]\n",
    "list3 = [True, False, False]"
   ]
  },
  {
   "cell_type": "markdown",
   "id": "84c5b49e",
   "metadata": {},
   "source": [
    "Bir liste farklı veri türleri içerebilir:"
   ]
  },
  {
   "cell_type": "code",
   "execution_count": null,
   "id": "98417225",
   "metadata": {},
   "outputs": [],
   "source": [
    "list1 = [\"abc\", 34, True, 40, \"male\"]"
   ]
  },
  {
   "cell_type": "markdown",
   "id": "68765dcb",
   "metadata": {},
   "source": [
    "#### List Constructor - list(  ) Yapıcısı\n",
    "\n",
    "Yeni bir liste oluştururken list() yapıcısını kullanmak da mümkündür."
   ]
  },
  {
   "cell_type": "code",
   "execution_count": null,
   "id": "3ea90b18",
   "metadata": {},
   "outputs": [],
   "source": [
    "thislist = list((\"apple\", \"banana\", \"cherry\")) # note the double round-brackets\n",
    "print(thislist)\n",
    "print(type(thislist))"
   ]
  },
  {
   "cell_type": "code",
   "execution_count": null,
   "id": "0f57e448",
   "metadata": {},
   "outputs": [],
   "source": [
    "thislist = [\"apple\", \"banana\", \"cherry\"]\n",
    "print(type(thislist))"
   ]
  },
  {
   "cell_type": "markdown",
   "id": "a3ea8cfd",
   "metadata": {},
   "source": [
    "#### Python Collections - Python Koleksiyonları (Diziler)\n",
    "Python programlama dilinde dört toplama veri türü vardır:\n",
    "\n",
    "* Liste, *sıralı* ve *değiştirilebilir* bir koleksiyondur. Yinelenen üyelere izin verir.\n",
    "* Tuple, *sıralı* ve *değişmez* bir koleksiyondur. Yinelenen üyelere izin verir.\n",
    "* Set, *sırasız*, *değiştirilemez* ve *indekslenmemiş* bir koleksiyondur. Çift üye yok.\n",
    "* Sözlük, *sıralı* ve *değiştirilebilir* bir koleksiyondur. Çift üye yok.\n",
    "\n",
    "\n",
    "#### Python - Liste Öğelerine Erişim\n",
    "Liste öğeleri indekslenir ve bunlara indeks numarasına başvurarak erişebilirsiniz:\n",
    "\n",
    "**Not:** İlk öğenin indeksi 0'dır."
   ]
  },
  {
   "cell_type": "code",
   "execution_count": null,
   "id": "7dd87e65",
   "metadata": {},
   "outputs": [],
   "source": [
    "thislist = [\"apple\", \"banana\", \"cherry\"]\n",
    "print(thislist[1])"
   ]
  },
  {
   "cell_type": "markdown",
   "id": "4fe2b88a",
   "metadata": {},
   "source": [
    "#### Negatif İndeksleme\n",
    "Negatif indeksleme, sondan başlamak anlamına gelir\n",
    "\n",
    "-1 son öğeyi, -2 sondan ikinci öğeyi vb. ifade eder."
   ]
  },
  {
   "cell_type": "code",
   "execution_count": null,
   "id": "f8943d6b",
   "metadata": {},
   "outputs": [],
   "source": [
    "thislist = [\"apple\", \"banana\", \"cherry\"]\n",
    "print(thislist[-1])"
   ]
  },
  {
   "cell_type": "markdown",
   "id": "493f0dd9",
   "metadata": {},
   "source": [
    "#### Dizin Aralığı\n",
    "Aralığın nereden başlayacağını ve nerede biteceğini belirterek bir dizin aralığı belirtebilirsiniz.\n",
    "\n",
    "Bir aralık belirtirken, dönüş değeri, belirtilen öğeleri içeren yeni bir liste olacaktır."
   ]
  },
  {
   "cell_type": "code",
   "execution_count": null,
   "id": "92a03f2f",
   "metadata": {},
   "outputs": [],
   "source": [
    "thislist = [\"apple\", \"banana\", \"cherry\", \"orange\", \"kiwi\", \"melon\", \"mango\"]\n",
    "print(thislist[2:5])\n",
    "# Not: Arama, dizin 2'de (dahil) başlar ve dizin 5'te (dahil değildir) biter."
   ]
  },
  {
   "cell_type": "markdown",
   "id": "14bc4221",
   "metadata": {},
   "source": [
    "Başlangıç değerini dışarıda bırakarak, aralık ilk öğeden başlayacaktır:\n",
    "\n",
    "Bu örnek, öğeleri baştan sona döndürür, ancak \"kivi\" dahil DEĞİLDİR:"
   ]
  },
  {
   "cell_type": "code",
   "execution_count": null,
   "id": "4f078820",
   "metadata": {},
   "outputs": [],
   "source": [
    "thislist = [\"apple\", \"banana\", \"cherry\", \"orange\", \"kiwi\", \"melon\", \"mango\"]\n",
    "print(thislist[:4])"
   ]
  },
  {
   "cell_type": "markdown",
   "id": "f6a122bf",
   "metadata": {},
   "source": [
    "Bitiş değerini dışarıda bırakarak, aralık listenin sonuna kadar devam edecektir:"
   ]
  },
  {
   "cell_type": "code",
   "execution_count": null,
   "id": "137ec3d6",
   "metadata": {},
   "outputs": [],
   "source": [
    "thislist = [\"apple\", \"banana\", \"cherry\", \"orange\", \"kiwi\", \"melon\", \"mango\"]\n",
    "print(thislist[2:])"
   ]
  },
  {
   "cell_type": "code",
   "execution_count": null,
   "id": "b60d1c66",
   "metadata": {},
   "outputs": [],
   "source": [
    "thislist = [\"apple\", \"banana\", \"cherry\", \"orange\", \"kiwi\", \"melon\", \"mango\"]\n",
    "print(thislist[3:])"
   ]
  },
  {
   "cell_type": "markdown",
   "id": "3f116462",
   "metadata": {},
   "source": [
    "#### Negatif Endeks Aralığı\n",
    "Aramayı listenin sonundan başlatmak istiyorsanız, negatif dizinleri belirtin:"
   ]
  },
  {
   "cell_type": "code",
   "execution_count": null,
   "id": "62f50a45",
   "metadata": {},
   "outputs": [],
   "source": [
    "thislist = [\"apple\", \"banana\", \"cherry\", \"orange\", \"kiwi\", \"melon\", \"mango\"]\n",
    "print(thislist[-4:-1])"
   ]
  },
  {
   "cell_type": "markdown",
   "id": "c3cc8ef9",
   "metadata": {},
   "source": [
    "#### Öğenin var olup olmadığını kontrol edin\n",
    "Listede belirtilen bir öğenin olup olmadığını belirlemek için in anahtar sözcüğünü kullanın:"
   ]
  },
  {
   "cell_type": "code",
   "execution_count": null,
   "id": "300fa91a",
   "metadata": {},
   "outputs": [],
   "source": [
    "thislist = [\"apple\", \"banana\", \"cherry\"]\n",
    "if \"apple\" in thislist:\n",
    "    print(\"Yes, 'apple' is in the fruits list\")"
   ]
  },
  {
   "cell_type": "markdown",
   "id": "086559bc",
   "metadata": {},
   "source": [
    "#### Python - Liste Öğelerini Değiştirme\n",
    "\n",
    "Öğe Değerini Değiştir\n",
    "\n",
    "Belirli bir öğenin değerini değiştirmek için dizin numarasına bakın:"
   ]
  },
  {
   "cell_type": "code",
   "execution_count": null,
   "id": "2effdd8e",
   "metadata": {},
   "outputs": [],
   "source": [
    "thislist = [\"apple\", \"banana\", \"cherry\"]\n",
    "thislist[1] = \"blackcurrant\"\n",
    "print(thislist)"
   ]
  },
  {
   "cell_type": "markdown",
   "id": "02ade343",
   "metadata": {},
   "source": [
    "#### Öğe Değerleri Aralığını Değiştirin\n",
    "Belirli bir aralıktaki öğelerin değerini değiştirmek için, yeni değerlerle bir liste tanımlayın ve yeni değerleri eklemek istediğiniz dizin numarası aralığına bakın:"
   ]
  },
  {
   "cell_type": "code",
   "execution_count": null,
   "id": "a388585c",
   "metadata": {},
   "outputs": [],
   "source": [
    "thislist = [\"apple\", \"banana\", \"cherry\", \"orange\", \"kiwi\", \"mango\"]\n",
    "thislist[1:3] = [\"blackcurrant\", \"watermelon\"]\n",
    "print(thislist)"
   ]
  },
  {
   "cell_type": "markdown",
   "id": "f45ddef4",
   "metadata": {},
   "source": [
    "#### Python - Liste Öğeleri Ekle\n",
    "\n",
    "Listenin sonuna bir öğe eklemek için **append( )** yöntemini kullanın:"
   ]
  },
  {
   "cell_type": "code",
   "execution_count": null,
   "id": "614ed510",
   "metadata": {},
   "outputs": [],
   "source": [
    "thislist = [\"apple\", \"banana\", \"cherry\"]\n",
    "thislist.append(\"orange\")\n",
    "print(thislist)"
   ]
  },
  {
   "cell_type": "markdown",
   "id": "f928250e",
   "metadata": {},
   "source": [
    "#### Öğe Ekle - Insert\n",
    "Belirtilen dizine bir liste öğesi eklemek için **insert( )** yöntemini kullanın.\n",
    "\n",
    "insert( ) yöntemi, belirtilen dizine bir öğe ekler:"
   ]
  },
  {
   "cell_type": "code",
   "execution_count": null,
   "id": "bbea77a3",
   "metadata": {},
   "outputs": [],
   "source": [
    "thislist = [\"apple\", \"banana\", \"cherry\"]\n",
    "thislist.insert(1, \"orange\")\n",
    "print(thislist)"
   ]
  },
  {
   "cell_type": "markdown",
   "id": "c36e9abb",
   "metadata": {},
   "source": [
    "#### Python - Liste Öğelerini Kaldır \n",
    "#### Belirtilen Öğeyi Kaldır\n",
    "Remove() yöntemi, belirtilen öğeyi kaldırır."
   ]
  },
  {
   "cell_type": "code",
   "execution_count": null,
   "id": "d730bccb",
   "metadata": {},
   "outputs": [],
   "source": [
    "thislist = [\"apple\", \"banana\", \"cherry\"]\n",
    "thislist.remove(\"banana\")\n",
    "print(thislist)"
   ]
  },
  {
   "cell_type": "markdown",
   "id": "4d55ba04",
   "metadata": {},
   "source": [
    "#### Belirtilen Dizini Kaldır\n",
    "\n",
    "**pop( )** yöntemi, belirtilen dizini kaldırır."
   ]
  },
  {
   "cell_type": "code",
   "execution_count": null,
   "id": "6d4bdc9b",
   "metadata": {},
   "outputs": [],
   "source": [
    "thislist = [\"apple\", \"banana\", \"cherry\"]\n",
    "thislist.pop(1)\n",
    "print(thislist)"
   ]
  },
  {
   "cell_type": "markdown",
   "id": "a0170fcb",
   "metadata": {},
   "source": [
    "Dizini belirtmezseniz, **pop( )** yöntemi son öğeyi kaldırır."
   ]
  },
  {
   "cell_type": "code",
   "execution_count": null,
   "id": "5d51b737",
   "metadata": {},
   "outputs": [],
   "source": [
    "thislist = [\"apple\", \"banana\", \"cherry\"]\n",
    "thislist.pop()\n",
    "print(thislist)"
   ]
  },
  {
   "cell_type": "markdown",
   "id": "4bfbbbf1",
   "metadata": {},
   "source": [
    "**del** anahtar sözcüğü ayrıca belirtilen dizini de kaldırır:"
   ]
  },
  {
   "cell_type": "code",
   "execution_count": null,
   "id": "237c5c00",
   "metadata": {},
   "outputs": [],
   "source": [
    "thislist = [\"apple\", \"banana\", \"cherry\"]\n",
    "del thislist[0]\n",
    "print(thislist)"
   ]
  },
  {
   "cell_type": "markdown",
   "id": "1140b4c2",
   "metadata": {},
   "source": [
    "#### Listeyi Temizle\n",
    "**clear( )** yöntemi listeyi boşaltır.\n",
    "\n",
    "Liste hala duruyor, ancak içeriği yok."
   ]
  },
  {
   "cell_type": "code",
   "execution_count": null,
   "id": "32d13a6f",
   "metadata": {},
   "outputs": [],
   "source": [
    "thislist = [\"apple\", \"banana\", \"cherry\"]\n",
    "thislist.clear()\n",
    "print(thislist)"
   ]
  },
  {
   "cell_type": "markdown",
   "id": "dc397da2",
   "metadata": {},
   "source": [
    "#### Python - Döngü Listeleri\n",
    "\n",
    "#### Listede Döngü\n",
    "Bir for döngüsü kullanarak liste öğeleri arasında dolaşabilirsiniz:"
   ]
  },
  {
   "cell_type": "code",
   "execution_count": null,
   "id": "f42c8d64",
   "metadata": {},
   "outputs": [],
   "source": [
    "thislist = [\"apple\", \"banana\", \"cherry\"]\n",
    "for x in thislist:\n",
    "    print(x)"
   ]
  },
  {
   "cell_type": "markdown",
   "id": "ca81cc53",
   "metadata": {},
   "source": [
    "#### Dizin Numaralarında Döngü\n",
    "Ayrıca, dizin numaralarına başvurarak liste öğeleri arasında dolaşabilirsiniz.\n",
    "\n",
    "Uygun bir yinelenebilir oluşturmak için **range( )** ve **len( )** işlevlerini kullanın."
   ]
  },
  {
   "cell_type": "code",
   "execution_count": null,
   "id": "10dc5bdb",
   "metadata": {},
   "outputs": [],
   "source": [
    "thislist = [\"apple\", \"banana\", \"cherry\"]\n",
    "for i in range(len(thislist)):\n",
    "    print(thislist[i])\n",
    "# The iterable created in the example above is [0, 1, 2]."
   ]
  },
  {
   "cell_type": "markdown",
   "id": "fa409fd4",
   "metadata": {},
   "source": [
    "#### Python Tuples - Demetler\n",
    "\n",
    "Tuple'lar, birden çok öğeyi tek bir değişkende saklamak için kullanılır.\n",
    "\n",
    "Tuple, Python'da veri koleksiyonlarını depolamak için kullanılan 4 yerleşik veri türünden biridir, diğer 3'ü Liste, Set ve Sözlük'tür ve tümü farklı niteliklere ve kullanıma sahiptir.\n",
    "\n",
    "Tuple, sıralı ve değiştirilemez bir koleksiyondur.\n",
    "\n",
    "Tuples yuvarlak parantez ile yazılır."
   ]
  },
  {
   "cell_type": "code",
   "execution_count": null,
   "id": "8b6ac2ef",
   "metadata": {},
   "outputs": [],
   "source": [
    "mytuple = (\"apple\", \"banana\", \"cherry\")\n",
    "print(mytuple)"
   ]
  },
  {
   "cell_type": "markdown",
   "id": "432f222d",
   "metadata": {},
   "source": [
    "#### Tuple Öğeleri\n",
    "Tuple öğeleri sıralanır, değiştirilemez ve yinelenen değerlere izin verir.\n",
    "\n",
    "Tuple öğeleri indekslenir, ilk öğenin indeksi [0], ikinci öğenin indeksi [1] vardır vb."
   ]
  },
  {
   "cell_type": "code",
   "execution_count": null,
   "id": "08976e9b",
   "metadata": {},
   "outputs": [],
   "source": [
    "thistuple = (\"apple\", \"banana\", \"cherry\", \"apple\", \"cherry\")\n",
    "print(thistuple)"
   ]
  },
  {
   "cell_type": "markdown",
   "id": "7fad44e6",
   "metadata": {},
   "source": [
    "#### Bir Öğe ile Tuple Oluşturun\n",
    "Yalnızca bir öğe içeren bir demet oluşturmak için, öğeden sonra virgül eklemeniz gerekir, aksi takdirde Python onu bir demet olarak tanımaz."
   ]
  },
  {
   "cell_type": "code",
   "execution_count": null,
   "id": "0733fb08",
   "metadata": {},
   "outputs": [],
   "source": [
    "thistuple = (\"apple\",)\n",
    "print(type(thistuple))\n",
    "\n",
    "#NOT a tuple\n",
    "thistuple = (\"apple\")\n",
    "print(type(thistuple))"
   ]
  },
  {
   "cell_type": "markdown",
   "id": "f82296cd",
   "metadata": {},
   "source": [
    "#### Tuple Öğeleri - Veri Türleri\n",
    "Tuple öğeleri herhangi bir veri türünde olabilir:"
   ]
  },
  {
   "cell_type": "code",
   "execution_count": null,
   "id": "edef9a81",
   "metadata": {},
   "outputs": [],
   "source": [
    "tuple1 = (\"apple\", \"banana\", \"cherry\")\n",
    "tuple2 = (1, 5, 7, 9, 3)\n",
    "tuple3 = (True, False, False)"
   ]
  },
  {
   "cell_type": "markdown",
   "id": "1e0ebb64",
   "metadata": {},
   "source": [
    "#### Tuple(  ) Yapıcısı\n",
    "Bir demet oluşturmak için tuple() yapıcısını kullanmak da mümkündür."
   ]
  },
  {
   "cell_type": "code",
   "execution_count": null,
   "id": "ff05ac87",
   "metadata": {},
   "outputs": [],
   "source": [
    "thistuple = tuple((\"apple\", \"banana\", \"cherry\")) # note the double round-brackets\n",
    "print(thistuple)"
   ]
  },
  {
   "cell_type": "code",
   "execution_count": null,
   "id": "34121e58",
   "metadata": {},
   "outputs": [],
   "source": [
    "thistuple = (\"apple\", \"banana\", \"cherry\")\n",
    "print(thistuple[1])"
   ]
  },
  {
   "cell_type": "code",
   "execution_count": null,
   "id": "d08fdd81",
   "metadata": {},
   "outputs": [],
   "source": []
  }
 ],
 "metadata": {
  "kernelspec": {
   "display_name": "Python 3 (ipykernel)",
   "language": "python",
   "name": "python3"
  },
  "language_info": {
   "codemirror_mode": {
    "name": "ipython",
    "version": 3
   },
   "file_extension": ".py",
   "mimetype": "text/x-python",
   "name": "python",
   "nbconvert_exporter": "python",
   "pygments_lexer": "ipython3",
   "version": "3.7.0"
  }
 },
 "nbformat": 4,
 "nbformat_minor": 5
}
